{
 "cells": [
  {
   "cell_type": "markdown",
   "id": "5943c940",
   "metadata": {},
   "source": [
    "In this notebook we will count the occurrence of sequence of theorems together to use as sign to control granularity."
   ]
  },
  {
   "cell_type": "code",
   "execution_count": 1,
   "id": "00e35abb",
   "metadata": {},
   "outputs": [],
   "source": [
    "from adapt_utils import replace_symbols\n",
    "\n",
    "from tree_parser import *\n",
    "\n",
    "import networkx as nx \n",
    "\n",
    "from collections import Counter\n",
    "\n",
    "#import matplotlib\n",
    "#import matplotlib.pyplot as plt"
   ]
  },
  {
   "cell_type": "code",
   "execution_count": 2,
   "id": "06296588",
   "metadata": {},
   "outputs": [
    {
     "name": "stdout",
     "output_type": "stream",
     "text": [
      "included 5555695 tokens from set.mm\n",
      "proposition: 10000"
     ]
    }
   ],
   "source": [
    "text = file_contents()\n",
    "database = meta_math_database(text,n=10000)"
   ]
  },
  {
   "cell_type": "code",
   "execution_count": 3,
   "id": "fa68fb73",
   "metadata": {},
   "outputs": [],
   "source": [
    "def get_edges(proof_step, edges):\n",
    "\n",
    "    for ps in proof_step._prior_entails:\n",
    "        edges.append((proof_step.prop.label, ps.prop.label))\n",
    "        get_edges(ps, edges)"
   ]
  },
  {
   "cell_type": "code",
   "execution_count": 4,
   "id": "02b99168",
   "metadata": {},
   "outputs": [
    {
     "name": "stdout",
     "output_type": "stream",
     "text": [
      "9999"
     ]
    }
   ],
   "source": [
    "edges = []\n",
    "\n",
    "for i, prop in enumerate(database.propositions_list):\n",
    "    print(f\"\\r{i}\", end=\"\")\n",
    "    if len(prop.entails_proof_steps) > 0:\n",
    "        get_edges(prop.entails_proof_steps[-1], edges)\n",
    "    "
   ]
  },
  {
   "cell_type": "code",
   "execution_count": 5,
   "id": "68021da2",
   "metadata": {},
   "outputs": [
    {
     "data": {
      "text/plain": [
       "174576"
      ]
     },
     "execution_count": 5,
     "metadata": {},
     "output_type": "execute_result"
    }
   ],
   "source": [
    "len(edges)"
   ]
  },
  {
   "cell_type": "code",
   "execution_count": 6,
   "id": "a33c60ff",
   "metadata": {},
   "outputs": [],
   "source": [
    "edges_cnt = Counter(edges)"
   ]
  },
  {
   "cell_type": "code",
   "execution_count": 15,
   "id": "85d9cefe",
   "metadata": {},
   "outputs": [],
   "source": [
    "import pickle\n",
    "\n",
    "pickle.dump(edges_cnt, open(\"edges_cnt.pkl\", \"wb\"))\n",
    "\n",
    "#edges_cnt"
   ]
  },
  {
   "cell_type": "code",
   "execution_count": 7,
   "id": "dd15bb7a",
   "metadata": {},
   "outputs": [
    {
     "data": {
      "text/plain": [
       "0"
      ]
     },
     "execution_count": 7,
     "metadata": {},
     "output_type": "execute_result"
    }
   ],
   "source": [
    "edges_cnt[(\"eqss\", \"0ss\")]"
   ]
  },
  {
   "cell_type": "code",
   "execution_count": 16,
   "id": "f3e708bd",
   "metadata": {},
   "outputs": [
    {
     "name": "stdout",
     "output_type": "stream",
     "text": [
      "('bitr4i', '3bitri') 13\n",
      "('3bitri', 'dfss') 1\n",
      "('3bitri', 'eqeq2i') 3\n",
      "('eqeq2i', 'df-in') 1\n",
      "('3bitri', 'abeq2') 1\n",
      "('bitr4i', 'albii') 30\n",
      "('albii', 'pm4.71') 5\n"
     ]
    }
   ],
   "source": [
    "target_prop = database.propositions[\"dfss2\"]\n",
    "\n",
    "target_edges = []\n",
    "get_edges(target_prop.entails_proof_steps[-1], target_edges)\n",
    "\n",
    "for e in target_edges:\n",
    "    print(e, edges_cnt[e])\n",
    "\n",
    "#edges_cnt[(\"bitr4i\",\"3bitri\")]"
   ]
  },
  {
   "cell_type": "code",
   "execution_count": 9,
   "id": "0a50fa48",
   "metadata": {},
   "outputs": [],
   "source": [
    "#target_edges"
   ]
  },
  {
   "cell_type": "code",
   "execution_count": 10,
   "id": "7dab1e31",
   "metadata": {},
   "outputs": [
    {
     "data": {
      "text/plain": [
       "'mul02lem1'"
      ]
     },
     "execution_count": 10,
     "metadata": {},
     "output_type": "execute_result"
    }
   ],
   "source": [
    "database.propositions_list[-40].label"
   ]
  },
  {
   "cell_type": "code",
   "execution_count": null,
   "id": "66f93daf",
   "metadata": {},
   "outputs": [],
   "source": []
  }
 ],
 "metadata": {
  "kernelspec": {
   "display_name": "Python 3",
   "language": "python",
   "name": "python3"
  },
  "language_info": {
   "codemirror_mode": {
    "name": "ipython",
    "version": 3
   },
   "file_extension": ".py",
   "mimetype": "text/x-python",
   "name": "python",
   "nbconvert_exporter": "python",
   "pygments_lexer": "ipython3",
   "version": "3.9.6"
  }
 },
 "nbformat": 4,
 "nbformat_minor": 5
}
