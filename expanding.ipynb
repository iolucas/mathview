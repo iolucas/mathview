{
 "cells": [
  {
   "cell_type": "code",
   "execution_count": 1,
   "id": "97bc0c07",
   "metadata": {},
   "outputs": [],
   "source": [
    "from adapt_utils import replace_symbols\n",
    "\n",
    "from tree_parser import *\n",
    "\n",
    "import networkx as nx\n",
    "\n",
    "import matplotlib\n",
    "import matplotlib.pyplot as plt\n",
    "\n",
    "import copy\n",
    "\n",
    "import time\n",
    "\n",
    "from adapt_utils import replace_symbols\n",
    "from my_utils import print_proof_props_graph, get_proof_steps, print_ident_proof, print_proof_linear_steps\n",
    "from my_utils import get_proof_steps_graph, print_proof_steps_graph"
   ]
  },
  {
   "cell_type": "code",
   "execution_count": 2,
   "id": "942ec04b",
   "metadata": {},
   "outputs": [
    {
     "name": "stdout",
     "output_type": "stream",
     "text": [
      "included 5555695 tokens from set.mm\n",
      "proposition: 6000Wall time: 32.8 s\n"
     ]
    }
   ],
   "source": [
    "%%time\n",
    "\n",
    "text = file_contents()\n",
    "database = meta_math_database(text,n=6000)"
   ]
  },
  {
   "cell_type": "code",
   "execution_count": 3,
   "id": "07a2d6ed",
   "metadata": {},
   "outputs": [],
   "source": [
    "prop = database.propositions[\"dfss2\"]"
   ]
  },
  {
   "cell_type": "code",
   "execution_count": 4,
   "id": "8b32ace4",
   "metadata": {},
   "outputs": [
    {
     "name": "stdout",
     "output_type": "stream",
     "text": [
      "[dfss] |- ( A ⊆ B ↔ A = ( A ∩ B ) )\n",
      "[df-in] |- ( A ∩ B ) = { x | ( x ∈ A ∧ x ∈ B ) }\n",
      "[eqeq2i] |- ( A = ( A ∩ B ) ↔ A = { x | ( x ∈ A ∧ x ∈ B ) } )\n",
      "[abeq2] |- ( A = { x | ( x ∈ A ∧ x ∈ B ) } ↔ ∀ x ( x ∈ A ↔ ( x ∈ A ∧ x ∈ B ) ) )\n",
      "[3bitri] |- ( A ⊆ B ↔ ∀ x ( x ∈ A ↔ ( x ∈ A ∧ x ∈ B ) ) )\n",
      "[pm4.71] |- ( ( x ∈ A → x ∈ B ) ↔ ( x ∈ A ↔ ( x ∈ A ∧ x ∈ B ) ) )\n",
      "[albii] |- ( ∀ x ( x ∈ A → x ∈ B ) ↔ ∀ x ( x ∈ A ↔ ( x ∈ A ∧ x ∈ B ) ) )\n",
      "[bitr4i] |- ( A ⊆ B ↔ ∀ x ( x ∈ A → x ∈ B ) )\n"
     ]
    }
   ],
   "source": [
    "print_proof_linear_steps(\"dfss2\", database)"
   ]
  },
  {
   "cell_type": "code",
   "execution_count": 5,
   "id": "debd5c7f",
   "metadata": {},
   "outputs": [],
   "source": [
    "#1. Olhar pro passo\n",
    "#2. Pegar as variaveis F do teorema correspondente ao passo\n",
    "#3. Preencher dentro dos passos dentro da prova do teorema"
   ]
  },
  {
   "cell_type": "code",
   "execution_count": 6,
   "id": "39261722",
   "metadata": {},
   "outputs": [
    {
     "name": "stdout",
     "output_type": "stream",
     "text": [
      "[dfss] |- ( A ⊆ B ↔ A = ( A ∩ B ) )\n",
      "[df-in] |- ( A ∩ B ) = { x | ( x ∈ A ∧ x ∈ B ) }\n",
      "[eqeq2i] |- ( A = ( A ∩ B ) ↔ A = { x | ( x ∈ A ∧ x ∈ B ) } )\n",
      "[abeq2] |- ( A = { x | ( x ∈ A ∧ x ∈ B ) } ↔ ∀ x ( x ∈ A ↔ ( x ∈ A ∧ x ∈ B ) ) )\n",
      "[3bitri] |- ( A ⊆ B ↔ ∀ x ( x ∈ A ↔ ( x ∈ A ∧ x ∈ B ) ) )\n",
      "[pm4.71] |- ( ( x ∈ A → x ∈ B ) ↔ ( x ∈ A ↔ ( x ∈ A ∧ x ∈ B ) ) )\n",
      "[albii] |- ( ∀ x ( x ∈ A → x ∈ B ) ↔ ∀ x ( x ∈ A ↔ ( x ∈ A ∧ x ∈ B ) ) )\n",
      "[bitr4i] |- ( A ⊆ B ↔ ∀ x ( x ∈ A → x ∈ B ) )\n"
     ]
    }
   ],
   "source": [
    "print_proof_linear_steps(\"dfss2\", database)"
   ]
  },
  {
   "cell_type": "code",
   "execution_count": 4,
   "id": "9bbe2974",
   "metadata": {},
   "outputs": [],
   "source": [
    "from tree_parser import proof_step\n",
    "\n",
    "def get_step_replace_dict(step):\n",
    "    \n",
    "    e_hyps = [h for h in step.prop.hyps if h.type == 'e']\n",
    "    assert len(e_hyps) == len(step._prior_entails), print(len(e_hyps), len(step._prior_entails))\n",
    "    \n",
    "    repdict = {}\n",
    "    \n",
    "    for raw_hyp, rep_hyp in zip(e_hyps, step._prior_entails):\n",
    "       \n",
    "        raw_tree = raw_hyp.tree\n",
    "        rep_tree = rep_hyp.tree\n",
    "\n",
    "        for pos in raw_tree.breadth_first_position_list():\n",
    "            raw_subtree = raw_tree.tree_at_position(pos)\n",
    "            rep_subtree = rep_tree.tree_at_position(pos)\n",
    "            if raw_subtree.value != rep_subtree.value:\n",
    "                repdict[raw_subtree.value] = rep_subtree\n",
    "        \n",
    "    return repdict\n",
    "\n",
    "def expand_proof_step(root_step):\n",
    "    \n",
    "    expanded_steps = []\n",
    "    \n",
    "    if not hasattr(root_step, \"replace_dict_list\"):\n",
    "        root_step.replace_dict_list = [get_step_replace_dict(root_step)]\n",
    "    \n",
    "    for child_step in root_step.prop.entails_proof_steps:\n",
    "        #Take the original prop tree\n",
    "        exp_tree = child_step.prop.tree.copy()\n",
    "        \n",
    "        #Take the step transformation that was used to the raw step to the replace step\n",
    "        replace_dict_list = [get_step_replace_dict(child_step)]\n",
    "            \n",
    "        #Get the root step replace dicts so we can iterativelly expand the steps\n",
    "        replace_dict_list.extend(root_step.replace_dict_list)\n",
    "        \n",
    "        for rep_dict in replace_dict_list:\n",
    "            exp_tree = exp_tree.replace(rep_dict)\n",
    "        \n",
    "        prior_statements = child_step.prior_statements if hasattr(child_step, \"prior_statements\") else []\n",
    "        \n",
    "        exp_step = proof_step(exp_tree, root_step.context, child_step.prop, prior_statements)\n",
    "        exp_step.replace_dict_list = replace_dict_list\n",
    "        \n",
    "        expanded_steps.append(exp_step)\n",
    "        \n",
    "    return expanded_steps"
   ]
  },
  {
   "cell_type": "code",
   "execution_count": 5,
   "id": "75fbafcc",
   "metadata": {},
   "outputs": [
    {
     "name": "stdout",
     "output_type": "stream",
     "text": [
      "[mp2] |- ( 𝜑 ↔ 𝜓 )\n",
      "\n"
     ]
    },
    {
     "ename": "NameError",
     "evalue": "name 'exp_step' is not defined",
     "output_type": "error",
     "traceback": [
      "\u001b[1;31m---------------------------------------------------------------------------\u001b[0m",
      "\u001b[1;31mNameError\u001b[0m                                 Traceback (most recent call last)",
      "\u001b[1;32m<ipython-input-5-5131934d757e>\u001b[0m in \u001b[0;36m<module>\u001b[1;34m\u001b[0m\n\u001b[0;32m     16\u001b[0m \u001b[1;33m\u001b[0m\u001b[0m\n\u001b[0;32m     17\u001b[0m     \u001b[1;31m#.replace(step_rep_dict)\u001b[0m\u001b[1;33m\u001b[0m\u001b[1;33m\u001b[0m\u001b[1;33m\u001b[0m\u001b[0m\n\u001b[1;32m---> 18\u001b[1;33m     \u001b[0mprint\u001b[0m\u001b[1;33m(\u001b[0m\u001b[1;34m\"--- [{}]\"\u001b[0m\u001b[1;33m.\u001b[0m\u001b[0mformat\u001b[0m\u001b[1;33m(\u001b[0m\u001b[0mexp_step\u001b[0m\u001b[1;33m.\u001b[0m\u001b[0mprop\u001b[0m\u001b[1;33m.\u001b[0m\u001b[0mlabel\u001b[0m\u001b[1;33m)\u001b[0m\u001b[1;33m,\u001b[0m \u001b[1;34m\"|-\"\u001b[0m\u001b[1;33m,\u001b[0m \u001b[0mreplace_symbols\u001b[0m\u001b[1;33m(\u001b[0m\u001b[0mnew_tree\u001b[0m\u001b[1;33m.\u001b[0m\u001b[0meval\u001b[0m\u001b[1;33m(\u001b[0m\u001b[0mdatabase\u001b[0m\u001b[1;33m,\u001b[0m \u001b[0mprop\u001b[0m\u001b[1;33m)\u001b[0m\u001b[1;33m)\u001b[0m\u001b[1;33m)\u001b[0m\u001b[1;33m\u001b[0m\u001b[1;33m\u001b[0m\u001b[0m\n\u001b[0m\u001b[0;32m     19\u001b[0m \u001b[1;33m\u001b[0m\u001b[0m\n\u001b[0;32m     20\u001b[0m \u001b[1;33m\u001b[0m\u001b[0m\n",
      "\u001b[1;31mNameError\u001b[0m: name 'exp_step' is not defined"
     ]
    }
   ],
   "source": [
    "#Verificar como utilizar a lista previa de replace dicts\n",
    "\n",
    "prop = database.propositions[\"impbii\"]\n",
    "root_step = prop.entails_proof_steps[-1]\n",
    "\n",
    "replace_dict_list = [get_step_replace_dict(root_step)]\n",
    "\n",
    "print(\"[{}]\".format(root_step.prop.label), \"|-\", replace_symbols(root_step.tree.eval(database, root_step.context)))\n",
    "print()\n",
    "\n",
    "for child_step in root_step.prop.entails_proof_steps:\n",
    "    new_tree = child_step.tree.copy()#.replace(replace_dict_list[0])\n",
    "    \n",
    "    for rep_dict in replace_dict_list:\n",
    "        new_tree = new_tree.replace(rep_dict)\n",
    "    \n",
    "    #.replace(step_rep_dict)\n",
    "    print(\"--- [{}]\".format(exp_step.prop.label), \"|-\", replace_symbols(new_tree.eval(database, prop)))\n",
    "    \n",
    "    \n",
    "    #print(get_step_replace_dict(child_step), child_step.prop.tree)\n",
    "    #print(replace_symbols(child_step.tree.copy().replace(step_rep_dict).eval(database, prop)))\n",
    "   # print()"
   ]
  },
  {
   "cell_type": "code",
   "execution_count": 6,
   "id": "9c4d88a3",
   "metadata": {},
   "outputs": [],
   "source": [
    "#[p.label for p in database.propositions_list[-300:]]"
   ]
  },
  {
   "cell_type": "code",
   "execution_count": 13,
   "id": "614721b3",
   "metadata": {},
   "outputs": [
    {
     "name": "stdout",
     "output_type": "stream",
     "text": [
      "[bitr4i] |- ( A ⊆ B ↔ ( B \\ ( B \\ A ) ) = A )\n",
      "\n",
      "--- [bicomi] |- ( ( B ∩ A ) = A ↔ ( B \\ ( B \\ A ) ) = A )\n",
      "--- [bitri] |- ( A ⊆ B ↔ ( B \\ ( B \\ A ) ) = A )\n"
     ]
    }
   ],
   "source": [
    "prop = database.propositions[\"dfss4\"]\n",
    "root_step = prop.entails_proof_steps[-1]\n",
    "\n",
    "exp_proof = expand_proof_step(root_step)\n",
    "\n",
    "print(\"[{}]\".format(root_step.prop.label), \"|-\", replace_symbols(root_step.tree.eval(database, root_step.context)))\n",
    "print()\n",
    "\n",
    "for exp_step in exp_proof:\n",
    "    print(\"--- [{}]\".format(exp_step.prop.label), \"|-\", replace_symbols(exp_step.tree.eval(database, root_step.context)))"
   ]
  },
  {
   "cell_type": "code",
   "execution_count": 17,
   "id": "cbed2ed0",
   "metadata": {},
   "outputs": [
    {
     "name": "stdout",
     "output_type": "stream",
     "text": [
      "[ax-mp] |- ( A ⊆ B ↔ ( B \\ ( B \\ A ) ) = A )\n",
      "\n"
     ]
    }
   ],
   "source": [
    "root_step = exp_proof[-1]\n",
    "\n",
    "exp_proof = expand_proof_step(root_step)\n",
    "\n",
    "print(\"[{}]\".format(root_step.prop.label), \"|-\", replace_symbols(root_step.tree.eval(database, root_step.context)))\n",
    "print()\n",
    "\n",
    "for exp_step in exp_proof:\n",
    "    print(\"--- [{}]\".format(exp_step.prop.label), \"|-\", replace_symbols(exp_step.tree.eval(database, root_step.context)))"
   ]
  },
  {
   "cell_type": "code",
   "execution_count": null,
   "id": "8a7fbaaa",
   "metadata": {},
   "outputs": [],
   "source": []
  },
  {
   "cell_type": "code",
   "execution_count": null,
   "id": "db260b48",
   "metadata": {},
   "outputs": [],
   "source": []
  },
  {
   "cell_type": "code",
   "execution_count": 91,
   "id": "acd743cd",
   "metadata": {},
   "outputs": [],
   "source": [
    "root_step = database.propositions[\"impbii\"].entails_proof_steps[-1]"
   ]
  },
  {
   "cell_type": "code",
   "execution_count": 92,
   "id": "9920a23d",
   "metadata": {},
   "outputs": [
    {
     "data": {
      "text/plain": [
       "{'wph': <Tree: wi(wph(),wps())>,\n",
       " 'wps': <Tree: wi(wps(),wph())>,\n",
       " 'wch': <Tree: wb(wph(),wps())>}"
      ]
     },
     "execution_count": 92,
     "metadata": {},
     "output_type": "execute_result"
    }
   ],
   "source": [
    "step_rep_dict = get_step_replace_dict(root_step)\n",
    "step_rep_dict"
   ]
  },
  {
   "cell_type": "code",
   "execution_count": 93,
   "id": "9366406e",
   "metadata": {},
   "outputs": [
    {
     "data": {
      "text/plain": [
       "'( ( ps -> ph ) -> ( ph <-> ps ) )'"
      ]
     },
     "execution_count": 93,
     "metadata": {},
     "output_type": "execute_result"
    }
   ],
   "source": [
    "root_step.prop.entails_proof_steps[-2].tree.copy().replace(step_rep_dict).eval(database, database.propositions[\"impbii\"])"
   ]
  },
  {
   "cell_type": "code",
   "execution_count": null,
   "id": "562150ee",
   "metadata": {},
   "outputs": [],
   "source": []
  },
  {
   "cell_type": "code",
   "execution_count": null,
   "id": "b55c58d4",
   "metadata": {},
   "outputs": [],
   "source": []
  },
  {
   "cell_type": "code",
   "execution_count": 94,
   "id": "bcd1d196",
   "metadata": {},
   "outputs": [
    {
     "data": {
      "text/plain": [
       "'( ( ph -> ps ) -> ( ( ps -> ph ) -> ( ph <-> ps ) ) )'"
      ]
     },
     "execution_count": 94,
     "metadata": {},
     "output_type": "execute_result"
    }
   ],
   "source": [
    "database.propositions[\"impbii\"].entails_proof_steps[-2].tree.eval(database, database.propositions[\"impbii\"])"
   ]
  },
  {
   "cell_type": "code",
   "execution_count": 95,
   "id": "826d8ac5",
   "metadata": {},
   "outputs": [
    {
     "data": {
      "text/plain": [
       "<tree_parser.proposition at 0x155335102b0>"
      ]
     },
     "execution_count": 95,
     "metadata": {},
     "output_type": "execute_result"
    }
   ],
   "source": [
    "database.propositions[\"impbii\"]"
   ]
  },
  {
   "cell_type": "code",
   "execution_count": 96,
   "id": "aac333f6",
   "metadata": {},
   "outputs": [],
   "source": [
    "done_steps = []"
   ]
  },
  {
   "cell_type": "code",
   "execution_count": 99,
   "id": "33b82476",
   "metadata": {},
   "outputs": [
    {
     "name": "stdout",
     "output_type": "stream",
     "text": [
      "[mp2] |- ( 𝜑 ↔ 𝜓 )\n",
      "\n",
      "--- [ax-mp] |- 𝜓\n",
      "--- [ax-mp] |- 𝜓\n"
     ]
    }
   ],
   "source": []
  },
  {
   "cell_type": "code",
   "execution_count": 98,
   "id": "90a6272d",
   "metadata": {},
   "outputs": [
    {
     "name": "stdout",
     "output_type": "stream",
     "text": [
      "2 0\n"
     ]
    },
    {
     "ename": "AssertionError",
     "evalue": "None",
     "output_type": "error",
     "traceback": [
      "\u001b[1;31m---------------------------------------------------------------------------\u001b[0m",
      "\u001b[1;31mAssertionError\u001b[0m                            Traceback (most recent call last)",
      "\u001b[1;32m<ipython-input-98-2516cb19d2cb>\u001b[0m in \u001b[0;36m<module>\u001b[1;34m\u001b[0m\n\u001b[0;32m      1\u001b[0m \u001b[0mroot_step\u001b[0m \u001b[1;33m=\u001b[0m \u001b[0mexp_proof\u001b[0m\u001b[1;33m[\u001b[0m\u001b[1;33m-\u001b[0m\u001b[1;36m1\u001b[0m\u001b[1;33m]\u001b[0m\u001b[1;33m\u001b[0m\u001b[1;33m\u001b[0m\u001b[0m\n\u001b[0;32m      2\u001b[0m \u001b[0mdone_steps\u001b[0m\u001b[1;33m.\u001b[0m\u001b[0mappend\u001b[0m\u001b[1;33m(\u001b[0m\u001b[0mroot_step\u001b[0m\u001b[1;33m)\u001b[0m\u001b[1;33m\u001b[0m\u001b[1;33m\u001b[0m\u001b[0m\n\u001b[1;32m----> 3\u001b[1;33m \u001b[0mexp_proof\u001b[0m \u001b[1;33m=\u001b[0m \u001b[0mexpand_proof_step\u001b[0m\u001b[1;33m(\u001b[0m\u001b[0mroot_step\u001b[0m\u001b[1;33m)\u001b[0m\u001b[1;33m\u001b[0m\u001b[1;33m\u001b[0m\u001b[0m\n\u001b[0m\u001b[0;32m      4\u001b[0m \u001b[1;33m\u001b[0m\u001b[0m\n\u001b[0;32m      5\u001b[0m \u001b[0mprint\u001b[0m\u001b[1;33m(\u001b[0m\u001b[1;34m\"[{}]\"\u001b[0m\u001b[1;33m.\u001b[0m\u001b[0mformat\u001b[0m\u001b[1;33m(\u001b[0m\u001b[0mroot_step\u001b[0m\u001b[1;33m.\u001b[0m\u001b[0mprop\u001b[0m\u001b[1;33m.\u001b[0m\u001b[0mlabel\u001b[0m\u001b[1;33m)\u001b[0m\u001b[1;33m,\u001b[0m \u001b[1;34m\"|-\"\u001b[0m\u001b[1;33m,\u001b[0m \u001b[0mreplace_symbols\u001b[0m\u001b[1;33m(\u001b[0m\u001b[0mroot_step\u001b[0m\u001b[1;33m.\u001b[0m\u001b[0mtree\u001b[0m\u001b[1;33m.\u001b[0m\u001b[0meval\u001b[0m\u001b[1;33m(\u001b[0m\u001b[0mdatabase\u001b[0m\u001b[1;33m,\u001b[0m \u001b[0mroot_step\u001b[0m\u001b[1;33m.\u001b[0m\u001b[0mcontext\u001b[0m\u001b[1;33m)\u001b[0m\u001b[1;33m)\u001b[0m\u001b[1;33m)\u001b[0m\u001b[1;33m\u001b[0m\u001b[1;33m\u001b[0m\u001b[0m\n",
      "\u001b[1;32m<ipython-input-82-943a4b19016e>\u001b[0m in \u001b[0;36mexpand_proof_step\u001b[1;34m(root_step)\u001b[0m\n\u001b[0;32m      7\u001b[0m     \u001b[0mexpanded_steps\u001b[0m \u001b[1;33m=\u001b[0m \u001b[1;33m[\u001b[0m\u001b[1;33m]\u001b[0m\u001b[1;33m\u001b[0m\u001b[1;33m\u001b[0m\u001b[0m\n\u001b[0;32m      8\u001b[0m \u001b[1;33m\u001b[0m\u001b[0m\n\u001b[1;32m----> 9\u001b[1;33m     \u001b[0mroot_step\u001b[0m\u001b[1;33m.\u001b[0m\u001b[0mreplace_dict_list\u001b[0m \u001b[1;33m=\u001b[0m \u001b[1;33m[\u001b[0m\u001b[0mget_step_replace_dict\u001b[0m\u001b[1;33m(\u001b[0m\u001b[0mroot_step\u001b[0m\u001b[1;33m)\u001b[0m\u001b[1;33m]\u001b[0m\u001b[1;33m\u001b[0m\u001b[1;33m\u001b[0m\u001b[0m\n\u001b[0m\u001b[0;32m     10\u001b[0m \u001b[1;33m\u001b[0m\u001b[0m\n\u001b[0;32m     11\u001b[0m     \u001b[1;32mfor\u001b[0m \u001b[0mchild_step\u001b[0m \u001b[1;32min\u001b[0m \u001b[0mroot_step\u001b[0m\u001b[1;33m.\u001b[0m\u001b[0mprop\u001b[0m\u001b[1;33m.\u001b[0m\u001b[0mentails_proof_steps\u001b[0m\u001b[1;33m:\u001b[0m\u001b[1;33m\u001b[0m\u001b[1;33m\u001b[0m\u001b[0m\n",
      "\u001b[1;32m<ipython-input-90-721b0afb6f2f>\u001b[0m in \u001b[0;36mget_step_replace_dict\u001b[1;34m(step)\u001b[0m\n\u001b[0;32m      2\u001b[0m \u001b[1;33m\u001b[0m\u001b[0m\n\u001b[0;32m      3\u001b[0m     \u001b[0me_hyps\u001b[0m \u001b[1;33m=\u001b[0m \u001b[1;33m[\u001b[0m\u001b[0mh\u001b[0m \u001b[1;32mfor\u001b[0m \u001b[0mh\u001b[0m \u001b[1;32min\u001b[0m \u001b[0mstep\u001b[0m\u001b[1;33m.\u001b[0m\u001b[0mprop\u001b[0m\u001b[1;33m.\u001b[0m\u001b[0mhyps\u001b[0m \u001b[1;32mif\u001b[0m \u001b[0mh\u001b[0m\u001b[1;33m.\u001b[0m\u001b[0mtype\u001b[0m \u001b[1;33m==\u001b[0m \u001b[1;34m'e'\u001b[0m\u001b[1;33m]\u001b[0m\u001b[1;33m\u001b[0m\u001b[1;33m\u001b[0m\u001b[0m\n\u001b[1;32m----> 4\u001b[1;33m     \u001b[1;32massert\u001b[0m \u001b[0mlen\u001b[0m\u001b[1;33m(\u001b[0m\u001b[0me_hyps\u001b[0m\u001b[1;33m)\u001b[0m \u001b[1;33m==\u001b[0m \u001b[0mlen\u001b[0m\u001b[1;33m(\u001b[0m\u001b[0mstep\u001b[0m\u001b[1;33m.\u001b[0m\u001b[0m_prior_entails\u001b[0m\u001b[1;33m)\u001b[0m\u001b[1;33m,\u001b[0m \u001b[0mprint\u001b[0m\u001b[1;33m(\u001b[0m\u001b[0mlen\u001b[0m\u001b[1;33m(\u001b[0m\u001b[0me_hyps\u001b[0m\u001b[1;33m)\u001b[0m\u001b[1;33m,\u001b[0m \u001b[0mlen\u001b[0m\u001b[1;33m(\u001b[0m\u001b[0mstep\u001b[0m\u001b[1;33m.\u001b[0m\u001b[0m_prior_entails\u001b[0m\u001b[1;33m)\u001b[0m\u001b[1;33m)\u001b[0m\u001b[1;33m\u001b[0m\u001b[1;33m\u001b[0m\u001b[0m\n\u001b[0m\u001b[0;32m      5\u001b[0m \u001b[1;33m\u001b[0m\u001b[0m\n\u001b[0;32m      6\u001b[0m     \u001b[0mrepdict\u001b[0m \u001b[1;33m=\u001b[0m \u001b[1;33m{\u001b[0m\u001b[1;33m}\u001b[0m\u001b[1;33m\u001b[0m\u001b[1;33m\u001b[0m\u001b[0m\n",
      "\u001b[1;31mAssertionError\u001b[0m: None"
     ]
    }
   ],
   "source": [
    "root_step = exp_proof[-1]\n",
    "done_steps.append(root_step)\n",
    "exp_proof = expand_proof_step(root_step)\n",
    "\n",
    "print(\"[{}]\".format(root_step.prop.label), \"|-\", replace_symbols(root_step.tree.eval(database, root_step.context)))\n",
    "print()\n",
    "\n",
    "for exp_step in exp_proof:\n",
    "    print(\"--- [{}]\".format(exp_step.prop.label), \"|-\", replace_symbols(exp_step.tree.eval(database, root_step.context)))"
   ]
  },
  {
   "cell_type": "code",
   "execution_count": null,
   "id": "1ab39663",
   "metadata": {},
   "outputs": [],
   "source": [
    "for child_step in root_step.prop.entails_proof_steps:\n",
    "        #exp_tree = child_step.prop.tree.copy()\n",
    "        exp_tree = child_step.tree.copy()\n",
    "        \n",
    "        #Check if the child step tree has a replace dict list (axioms dont have it I think)\n",
    "        #replace_dict_list = child_step.replace_dict_list.copy()\n",
    "        \n",
    "        replace_dict_list = [get_step_replace_dict(child_step)]\n",
    "        \n",
    "        \n",
    "        #if hasattr(child_step.tree, \"replace_dict_list\"):\n",
    "        #    exp_tree.replace_dict_list = child_step.tree.replace_dict_list.copy()\n",
    "        #else:\n",
    "            #exp_tree.replace_dict_list = []\n",
    "            \n",
    "        replace_dict_list.extend(root_step.replace_dict_list)\n",
    "        \n",
    "        for rep_dict in replace_dict_list:\n",
    "            exp_tree.replace(rep_dict)\n",
    "        \n",
    "        prior_statements = child_step.prior_statements if hasattr(child_step, \"prior_statements\") else []\n",
    "        \n",
    "        exp_step = proof_step(exp_tree, root_step.context, child_step.prop, prior_statements)\n",
    "        exp_step.replace_dict_list = replace_dict_list\n",
    "        \n",
    "        expanded_steps.append(exp_step)"
   ]
  },
  {
   "cell_type": "code",
   "execution_count": null,
   "id": "8ce5d6f0",
   "metadata": {},
   "outputs": [],
   "source": [
    "def expand_proof_step(root_step):\n",
    "\n",
    "    #rep_dict = root_step.tree._rep_dict\n",
    "    \n",
    "    expanded_steps = []\n",
    "    \n",
    "    for child_step in root_step.prop.entails_proof_steps:\n",
    "        #exp_tree = child_step.prop.tree.copy()\n",
    "        exp_tree = child_step.tree.copy()\n",
    "        \n",
    "        #Check if the child step tree has a replace dict list (axioms dont have it I think)\n",
    "        #replace_dict_list = child_step.replace_dict_list.copy()\n",
    "        \n",
    "        replace_dict_list = [get_step_replace_dict(child_step)]\n",
    "        \n",
    "        \n",
    "        #if hasattr(child_step.tree, \"replace_dict_list\"):\n",
    "        #    exp_tree.replace_dict_list = child_step.tree.replace_dict_list.copy()\n",
    "        #else:\n",
    "            #exp_tree.replace_dict_list = []\n",
    "            \n",
    "        replace_dict_list.extend(root_step.replace_dict_list)\n",
    "        \n",
    "        for rep_dict in replace_dict_list:\n",
    "            exp_tree.replace(rep_dict)\n",
    "        \n",
    "        prior_statements = child_step.prior_statements if hasattr(child_step, \"prior_statements\") else []\n",
    "        \n",
    "        exp_step = proof_step(exp_tree, root_step.context, child_step.prop, prior_statements)\n",
    "        exp_step.replace_dict_list = replace_dict_list\n",
    "        \n",
    "        expanded_steps.append(exp_step)\n",
    "        \n",
    "    return expanded_steps"
   ]
  },
  {
   "cell_type": "code",
   "execution_count": null,
   "id": "169e50c2",
   "metadata": {},
   "outputs": [],
   "source": []
  },
  {
   "cell_type": "code",
   "execution_count": null,
   "id": "f7827587",
   "metadata": {},
   "outputs": [],
   "source": []
  },
  {
   "cell_type": "code",
   "execution_count": 6,
   "id": "ab48bebe",
   "metadata": {},
   "outputs": [
    {
     "ename": "AttributeError",
     "evalue": "'Tree' object has no attribute 'replace_dict_list'",
     "output_type": "error",
     "traceback": [
      "\u001b[1;31m---------------------------------------------------------------------------\u001b[0m",
      "\u001b[1;31mAttributeError\u001b[0m                            Traceback (most recent call last)",
      "\u001b[1;32m<ipython-input-6-c7aa9499398e>\u001b[0m in \u001b[0;36m<module>\u001b[1;34m\u001b[0m\n\u001b[1;32m----> 1\u001b[1;33m \u001b[0mdatabase\u001b[0m\u001b[1;33m.\u001b[0m\u001b[0mpropositions\u001b[0m\u001b[1;33m[\u001b[0m\u001b[1;34m\"mp2\"\u001b[0m\u001b[1;33m]\u001b[0m\u001b[1;33m.\u001b[0m\u001b[0mtree\u001b[0m\u001b[1;33m.\u001b[0m\u001b[0mreplace_dict_list\u001b[0m\u001b[1;33m\u001b[0m\u001b[1;33m\u001b[0m\u001b[0m\n\u001b[0m",
      "\u001b[1;31mAttributeError\u001b[0m: 'Tree' object has no attribute 'replace_dict_list'"
     ]
    }
   ],
   "source": [
    "#database.propositions[\"mp2\"].tree.replace_dict_list"
   ]
  },
  {
   "cell_type": "code",
   "execution_count": 7,
   "id": "0b467729",
   "metadata": {},
   "outputs": [
    {
     "data": {
      "text/plain": [
       "[]"
      ]
     },
     "execution_count": 7,
     "metadata": {},
     "output_type": "execute_result"
    }
   ],
   "source": [
    "database.propositions[\"impbii\"].entails_proof_steps[-1].replace_dict_list"
   ]
  },
  {
   "cell_type": "code",
   "execution_count": 9,
   "id": "65f4f085",
   "metadata": {},
   "outputs": [
    {
     "data": {
      "text/plain": [
       "<Tree: wb(wph(),wps())>"
      ]
     },
     "execution_count": 9,
     "metadata": {},
     "output_type": "execute_result"
    }
   ],
   "source": [
    "database.propositions[\"impbii\"].entails_proof_steps[-1].tree"
   ]
  },
  {
   "cell_type": "code",
   "execution_count": null,
   "id": "d060d3b5",
   "metadata": {},
   "outputs": [],
   "source": []
  },
  {
   "cell_type": "code",
   "execution_count": 24,
   "id": "6e8246b4",
   "metadata": {},
   "outputs": [
    {
     "name": "stdout",
     "output_type": "stream",
     "text": [
      "[mp2] |- ( 𝜑 ↔ 𝜒 )\n",
      "\n",
      "--- [ax-mp] |- ( 𝜒 → 𝜒 )\n",
      "--- [ax-mp] |- 𝜒\n"
     ]
    }
   ],
   "source": [
    "root_step = exp_proof[-1]\n",
    "done_steps.append(root_step)\n",
    "exp_proof = expand_proof_step(root_step)\n",
    "\n",
    "\n",
    "print(\"[{}]\".format(root_step.prop.label), \"|-\", replace_symbols(root_step.tree.eval(database, root_step.context)))\n",
    "print()\n",
    "\n",
    "for exp_step in exp_proof:\n",
    "    print(\"--- [{}]\".format(exp_step.prop.label), \"|-\", replace_symbols(exp_step.tree.eval(database, root_step.context)))"
   ]
  },
  {
   "cell_type": "code",
   "execution_count": 25,
   "id": "74ba1a98",
   "metadata": {},
   "outputs": [
    {
     "name": "stdout",
     "output_type": "stream",
     "text": [
      "[ax-mp] |- 𝜒\n",
      "\n"
     ]
    }
   ],
   "source": [
    "root_step = exp_proof[-1]\n",
    "done_steps.append(root_step)\n",
    "exp_proof = expand_proof_step(root_step)\n",
    "\n",
    "\n",
    "print(\"[{}]\".format(root_step.prop.label), \"|-\", replace_symbols(root_step.tree.eval(database, root_step.context)))\n",
    "print()\n",
    "\n",
    "for exp_step in exp_proof:\n",
    "    print(\"--- [{}]\".format(exp_step.prop.label), \"|-\", replace_symbols(exp_step.tree.eval(database, root_step.context)))\n",
    "#print(\"--- [{}]\".format(exp_proof[-1].prop.label), \"|-\", replace_symbols(exp_proof[-1].tree.eval(database, root_step.context)))"
   ]
  },
  {
   "cell_type": "code",
   "execution_count": 26,
   "id": "91e53b47",
   "metadata": {},
   "outputs": [
    {
     "ename": "IndexError",
     "evalue": "list index out of range",
     "output_type": "error",
     "traceback": [
      "\u001b[1;31m---------------------------------------------------------------------------\u001b[0m",
      "\u001b[1;31mIndexError\u001b[0m                                Traceback (most recent call last)",
      "\u001b[1;32m<ipython-input-26-476f3563a298>\u001b[0m in \u001b[0;36m<module>\u001b[1;34m\u001b[0m\n\u001b[1;32m----> 1\u001b[1;33m \u001b[0mroot_step\u001b[0m \u001b[1;33m=\u001b[0m \u001b[0mexp_proof\u001b[0m\u001b[1;33m[\u001b[0m\u001b[1;33m-\u001b[0m\u001b[1;36m1\u001b[0m\u001b[1;33m]\u001b[0m\u001b[1;33m\u001b[0m\u001b[1;33m\u001b[0m\u001b[0m\n\u001b[0m\u001b[0;32m      2\u001b[0m \u001b[0mdone_steps\u001b[0m\u001b[1;33m.\u001b[0m\u001b[0mappend\u001b[0m\u001b[1;33m(\u001b[0m\u001b[0mroot_step\u001b[0m\u001b[1;33m)\u001b[0m\u001b[1;33m\u001b[0m\u001b[1;33m\u001b[0m\u001b[0m\n\u001b[0;32m      3\u001b[0m \u001b[0mexp_proof\u001b[0m \u001b[1;33m=\u001b[0m \u001b[0mexpand_proof_step\u001b[0m\u001b[1;33m(\u001b[0m\u001b[0mroot_step\u001b[0m\u001b[1;33m)\u001b[0m\u001b[1;33m\u001b[0m\u001b[1;33m\u001b[0m\u001b[0m\n\u001b[0;32m      4\u001b[0m \u001b[1;33m\u001b[0m\u001b[0m\n\u001b[0;32m      5\u001b[0m \u001b[1;33m\u001b[0m\u001b[0m\n",
      "\u001b[1;31mIndexError\u001b[0m: list index out of range"
     ]
    }
   ],
   "source": [
    "root_step = exp_proof[-1]\n",
    "done_steps.append(root_step)\n",
    "exp_proof = expand_proof_step(root_step)\n",
    "\n",
    "\n",
    "print(\"[{}]\".format(root_step.prop.label), \"|-\", replace_symbols(root_step.tree.eval(database, root_step.context)))\n",
    "print()\n",
    "\n",
    "for exp_step in exp_proof:\n",
    "    print(\"--- [{}]\".format(exp_step.prop.label), \"|-\", replace_symbols(exp_step.tree.eval(database, root_step.context)))"
   ]
  },
  {
   "cell_type": "code",
   "execution_count": 11,
   "id": "bcac9b73",
   "metadata": {},
   "outputs": [
    {
     "data": {
      "text/plain": [
       "[{'wph': <Tree: wss(cA(),cB())>,\n",
       "  'wps': <Tree: wal(wb(wcel(cv(vx()),cA()),wa(wcel(cv(vx()),cA()),wcel(cv(vx()),cB()))),vx())>,\n",
       "  'wch': <Tree: wal(wi(wcel(cv(vx()),cA()),wcel(cv(vx()),cB())),vx())>}]"
      ]
     },
     "execution_count": 11,
     "metadata": {},
     "output_type": "execute_result"
    }
   ],
   "source": [
    "done_steps[0].replace_dict_list"
   ]
  },
  {
   "cell_type": "code",
   "execution_count": 12,
   "id": "d8784979",
   "metadata": {},
   "outputs": [
    {
     "data": {
      "text/plain": [
       "[{'wph': <Tree: wph()>, 'wps': <Tree: wps()>, 'wch': <Tree: wch()>},\n",
       " {'wph': <Tree: wss(cA(),cB())>,\n",
       "  'wps': <Tree: wal(wb(wcel(cv(vx()),cA()),wa(wcel(cv(vx()),cA()),wcel(cv(vx()),cB()))),vx())>,\n",
       "  'wch': <Tree: wal(wi(wcel(cv(vx()),cA()),wcel(cv(vx()),cB())),vx())>}]"
      ]
     },
     "execution_count": 12,
     "metadata": {},
     "output_type": "execute_result"
    }
   ],
   "source": [
    "done_steps[1].replace_dict_list"
   ]
  },
  {
   "cell_type": "code",
   "execution_count": 13,
   "id": "9af2a3d9",
   "metadata": {},
   "outputs": [
    {
     "data": {
      "text/plain": [
       "[{'wph': <Tree: wph()>, 'wps': <Tree: wch()>},\n",
       " {'wph': <Tree: wph()>, 'wps': <Tree: wps()>, 'wch': <Tree: wch()>},\n",
       " {'wph': <Tree: wss(cA(),cB())>,\n",
       "  'wps': <Tree: wal(wb(wcel(cv(vx()),cA()),wa(wcel(cv(vx()),cA()),wcel(cv(vx()),cB()))),vx())>,\n",
       "  'wch': <Tree: wal(wi(wcel(cv(vx()),cA()),wcel(cv(vx()),cB())),vx())>}]"
      ]
     },
     "execution_count": 13,
     "metadata": {},
     "output_type": "execute_result"
    }
   ],
   "source": [
    "done_steps[2].replace_dict_list"
   ]
  },
  {
   "cell_type": "code",
   "execution_count": 14,
   "id": "70946567",
   "metadata": {},
   "outputs": [
    {
     "data": {
      "text/plain": [
       "[{'wph': <Tree: wph()>, 'wps': <Tree: wch()>},\n",
       " {'wph': <Tree: wph()>, 'wps': <Tree: wps()>, 'wch': <Tree: wch()>},\n",
       " {'wph': <Tree: wss(cA(),cB())>,\n",
       "  'wps': <Tree: wal(wb(wcel(cv(vx()),cA()),wa(wcel(cv(vx()),cA()),wcel(cv(vx()),cB()))),vx())>,\n",
       "  'wch': <Tree: wal(wi(wcel(cv(vx()),cA()),wcel(cv(vx()),cB())),vx())>}]"
      ]
     },
     "execution_count": 14,
     "metadata": {},
     "output_type": "execute_result"
    }
   ],
   "source": [
    "done_steps[3].replace_dict_list"
   ]
  },
  {
   "cell_type": "code",
   "execution_count": 17,
   "id": "0e4202e6",
   "metadata": {},
   "outputs": [
    {
     "data": {
      "text/plain": [
       "[]"
      ]
     },
     "execution_count": 17,
     "metadata": {},
     "output_type": "execute_result"
    }
   ],
   "source": [
    "database.propositions[\"mp2\"].entails_proof_steps[-1].replace_dict_list"
   ]
  },
  {
   "cell_type": "code",
   "execution_count": 18,
   "id": "7d11bb0b",
   "metadata": {},
   "outputs": [
    {
     "data": {
      "text/plain": [
       "[<f_hypothesis wph: wff ph>,\n",
       " <f_hypothesis wps: wff ps>,\n",
       " <f_hypothesis wch: wff ch>,\n",
       " <e_hypothesis mp2.1: |- |-ph>,\n",
       " <e_hypothesis mp2.2: |- |-ps>,\n",
       " <e_hypothesis mp2.3: |- |-(ph->(ps->ch))>]"
      ]
     },
     "execution_count": 18,
     "metadata": {},
     "output_type": "execute_result"
    }
   ],
   "source": [
    "database.propositions[\"mp2\"].hyps"
   ]
  },
  {
   "cell_type": "code",
   "execution_count": null,
   "id": "cb3f53f8",
   "metadata": {},
   "outputs": [],
   "source": []
  }
 ],
 "metadata": {
  "kernelspec": {
   "display_name": "Python 3",
   "language": "python",
   "name": "python3"
  },
  "language_info": {
   "codemirror_mode": {
    "name": "ipython",
    "version": 3
   },
   "file_extension": ".py",
   "mimetype": "text/x-python",
   "name": "python",
   "nbconvert_exporter": "python",
   "pygments_lexer": "ipython3",
   "version": "3.9.6"
  }
 },
 "nbformat": 4,
 "nbformat_minor": 5
}
