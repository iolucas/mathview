{
 "cells": [
  {
   "cell_type": "code",
   "execution_count": 1,
   "id": "32fa3b01",
   "metadata": {},
   "outputs": [],
   "source": [
    "from adapt_utils import replace_symbols\n",
    "\n",
    "from tree_parser import *\n",
    "\n",
    "import networkx as nx\n",
    "\n",
    "import matplotlib\n",
    "import matplotlib.pyplot as plt\n",
    "\n",
    "import copy\n",
    "\n",
    "import time\n",
    "\n",
    "from adapt_utils import replace_symbols\n",
    "from my_utils import print_proof_props_graph, get_proof_steps, print_ident_proof, print_proof_linear_steps\n",
    "from my_utils import get_proof_steps_graph, print_proof_steps_graph"
   ]
  },
  {
   "cell_type": "code",
   "execution_count": 2,
   "id": "2c62f013",
   "metadata": {},
   "outputs": [
    {
     "name": "stdout",
     "output_type": "stream",
     "text": [
      "included 5555695 tokens from set.mm\n",
      "proposition: 4000"
     ]
    }
   ],
   "source": [
    "text = file_contents()\n",
    "database = meta_math_database(text,n=4000)"
   ]
  },
  {
   "cell_type": "code",
   "execution_count": 3,
   "id": "d1b0b09d",
   "metadata": {},
   "outputs": [],
   "source": [
    "prop = database.propositions[\"dfss2\"]"
   ]
  },
  {
   "cell_type": "code",
   "execution_count": 4,
   "id": "4a05817d",
   "metadata": {},
   "outputs": [
    {
     "name": "stdout",
     "output_type": "stream",
     "text": [
      "[dfss] |- ( A ⊆ B ↔ A = ( A ∩ B ) )\n",
      "[df-in] |- ( A ∩ B ) = { x | ( x ∈ A ∧ x ∈ B ) }\n",
      "[eqeq2i] |- ( A = ( A ∩ B ) ↔ A = { x | ( x ∈ A ∧ x ∈ B ) } )\n",
      "[abeq2] |- ( A = { x | ( x ∈ A ∧ x ∈ B ) } ↔ ∀ x ( x ∈ A ↔ ( x ∈ A ∧ x ∈ B ) ) )\n",
      "[3bitri] |- ( A ⊆ B ↔ ∀ x ( x ∈ A ↔ ( x ∈ A ∧ x ∈ B ) ) )\n",
      "[pm4.71] |- ( ( x ∈ A → x ∈ B ) ↔ ( x ∈ A ↔ ( x ∈ A ∧ x ∈ B ) ) )\n",
      "[albii] |- ( ∀ x ( x ∈ A → x ∈ B ) ↔ ∀ x ( x ∈ A ↔ ( x ∈ A ∧ x ∈ B ) ) )\n",
      "[bitr4i] |- ( A ⊆ B ↔ ∀ x ( x ∈ A → x ∈ B ) )\n"
     ]
    }
   ],
   "source": [
    "print_proof_linear_steps(\"dfss2\", database)"
   ]
  },
  {
   "cell_type": "code",
   "execution_count": 5,
   "id": "cd4b49e6",
   "metadata": {},
   "outputs": [],
   "source": [
    "#1. Olhar pro passo\n",
    "#2. Pegar as variaveis F do teorema correspondente ao passo\n",
    "#3. Preencher dentro dos passos dentro da prova do teorema"
   ]
  },
  {
   "cell_type": "code",
   "execution_count": 6,
   "id": "fbe910f8",
   "metadata": {},
   "outputs": [
    {
     "name": "stdout",
     "output_type": "stream",
     "text": [
      "[dfss] |- ( A ⊆ B ↔ A = ( A ∩ B ) )\n",
      "[df-in] |- ( A ∩ B ) = { x | ( x ∈ A ∧ x ∈ B ) }\n",
      "[eqeq2i] |- ( A = ( A ∩ B ) ↔ A = { x | ( x ∈ A ∧ x ∈ B ) } )\n",
      "[abeq2] |- ( A = { x | ( x ∈ A ∧ x ∈ B ) } ↔ ∀ x ( x ∈ A ↔ ( x ∈ A ∧ x ∈ B ) ) )\n",
      "[3bitri] |- ( A ⊆ B ↔ ∀ x ( x ∈ A ↔ ( x ∈ A ∧ x ∈ B ) ) )\n",
      "[pm4.71] |- ( ( x ∈ A → x ∈ B ) ↔ ( x ∈ A ↔ ( x ∈ A ∧ x ∈ B ) ) )\n",
      "[albii] |- ( ∀ x ( x ∈ A → x ∈ B ) ↔ ∀ x ( x ∈ A ↔ ( x ∈ A ∧ x ∈ B ) ) )\n",
      "[bitr4i] |- ( A ⊆ B ↔ ∀ x ( x ∈ A → x ∈ B ) )\n"
     ]
    }
   ],
   "source": [
    "print_proof_linear_steps(\"dfss2\", database)"
   ]
  },
  {
   "cell_type": "code",
   "execution_count": 8,
   "id": "ed700149",
   "metadata": {},
   "outputs": [],
   "source": [
    "from tree_parser import proof_step\n",
    "\n",
    "def expand_proof_step(root_step):\n",
    "\n",
    "    #rep_dict = root_step.tree._rep_dict\n",
    "    \n",
    "    expanded_steps = []\n",
    "    \n",
    "    for child_step in root_step.prop.entails_proof_steps:\n",
    "        exp_tree = child_step.tree.copy()\n",
    "        \n",
    "        #Check if the child step tree has a replace dict list (axioms dont have it I think)\n",
    "        replace_dict_list = child_step.replace_dict_list.copy()\n",
    "        #if hasattr(child_step.tree, \"replace_dict_list\"):\n",
    "        #    exp_tree.replace_dict_list = child_step.tree.replace_dict_list.copy()\n",
    "        #else:\n",
    "            #exp_tree.replace_dict_list = []\n",
    "        \n",
    "        replace_dict_list.extend(root_step.replace_dict_list)\n",
    "        \n",
    "        for rep_dict in replace_dict_list:\n",
    "            exp_tree.replace(rep_dict)\n",
    "        \n",
    "        prior_statements = child_step.prior_statements if hasattr(child_step, \"prior_statements\") else []\n",
    "        \n",
    "        exp_step = proof_step(exp_tree, root_step.context, child_step.prop, prior_statements)\n",
    "        exp_step.replace_dict_list = replace_dict_list\n",
    "        \n",
    "        expanded_steps.append(exp_step)\n",
    "        \n",
    "    return expanded_steps"
   ]
  },
  {
   "cell_type": "code",
   "execution_count": 9,
   "id": "8237e7aa",
   "metadata": {},
   "outputs": [],
   "source": [
    "done_steps = []"
   ]
  },
  {
   "cell_type": "code",
   "execution_count": 10,
   "id": "262ac2c1",
   "metadata": {},
   "outputs": [
    {
     "name": "stdout",
     "output_type": "stream",
     "text": [
      "[bitr4i] |- ( A ⊆ B ↔ ∀ x ( x ∈ A → x ∈ B ) )\n",
      "\n",
      "--- [bicomi] |- ( ∀ x ( x ∈ A ↔ ( x ∈ A ∧ x ∈ B ) ) ↔ ∀ x ( x ∈ A → x ∈ B ) )\n",
      "--- [bitri] |- ( A ⊆ B ↔ ∀ x ( x ∈ A → x ∈ B ) )\n"
     ]
    }
   ],
   "source": [
    "root_step = database.propositions[\"dfss2\"].entails_proof_steps[-1]\n",
    "done_steps.append(root_step)\n",
    "exp_proof = expand_proof_step(root_step)\n",
    "\n",
    "\n",
    "print(\"[{}]\".format(root_step.prop.label), \"|-\", replace_symbols(root_step.tree.eval(database, root_step.context)))\n",
    "print()\n",
    "\n",
    "for exp_step in exp_proof:\n",
    "    print(\"--- [{}]\".format(exp_step.prop.label), \"|-\", replace_symbols(exp_step.tree.eval(database, root_step.context)))"
   ]
  },
  {
   "cell_type": "code",
   "execution_count": 11,
   "id": "e8e8cf67",
   "metadata": {},
   "outputs": [
    {
     "name": "stdout",
     "output_type": "stream",
     "text": [
      "[bitri] |- ( A ⊆ B ↔ ∀ x ( x ∈ A → x ∈ B ) )\n",
      "\n",
      "--- [sylbb] |- ( A ⊆ B → ∀ x ( x ∈ A → x ∈ B ) )\n",
      "--- [sylbbr] |- ( ∀ x ( x ∈ A → x ∈ B ) → A ⊆ B )\n",
      "--- [impbii] |- ( A ⊆ B ↔ ∀ x ( x ∈ A → x ∈ B ) )\n"
     ]
    }
   ],
   "source": [
    "root_step = exp_proof[-1]\n",
    "done_steps.append(root_step)\n",
    "exp_proof = expand_proof_step(root_step)\n",
    "\n",
    "\n",
    "print(\"[{}]\".format(root_step.prop.label), \"|-\", replace_symbols(root_step.tree.eval(database, root_step.context)))\n",
    "print()\n",
    "\n",
    "for exp_step in exp_proof:\n",
    "    print(\"--- [{}]\".format(exp_step.prop.label), \"|-\", replace_symbols(exp_step.tree.eval(database, root_step.context)))"
   ]
  },
  {
   "cell_type": "code",
   "execution_count": 12,
   "id": "55e8dd67",
   "metadata": {},
   "outputs": [
    {
     "name": "stdout",
     "output_type": "stream",
     "text": [
      "[impbii] |- ( A ⊆ B ↔ ∀ x ( x ∈ A → x ∈ B ) )\n",
      "\n",
      "--- [impbi] |- ( ( A ⊆ B → ∀ x ( x ∈ A → x ∈ B ) ) → ( ( ∀ x ( x ∈ A → x ∈ B ) → A ⊆ B ) → ( A ⊆ B ↔ ∀ x ( x ∈ A → x ∈ B ) ) ) )\n",
      "--- [mp2] |- ( A ⊆ B ↔ ∀ x ( x ∈ A → x ∈ B ) )\n"
     ]
    }
   ],
   "source": [
    "root_step = exp_proof[-1]\n",
    "done_steps.append(root_step)\n",
    "exp_proof = expand_proof_step(root_step)\n",
    "\n",
    "\n",
    "print(\"[{}]\".format(root_step.prop.label), \"|-\", replace_symbols(root_step.tree.eval(database, root_step.context)))\n",
    "print()\n",
    "\n",
    "for exp_step in exp_proof:\n",
    "    print(\"--- [{}]\".format(exp_step.prop.label), \"|-\", replace_symbols(exp_step.tree.eval(database, root_step.context)))"
   ]
  },
  {
   "cell_type": "code",
   "execution_count": 13,
   "id": "f8dec9b1",
   "metadata": {},
   "outputs": [
    {
     "name": "stdout",
     "output_type": "stream",
     "text": [
      "[mp2] |- ( A ⊆ B ↔ ∀ x ( x ∈ A → x ∈ B ) )\n",
      "\n",
      "--- [ax-mp] |- ( ∀ x ( x ∈ A → x ∈ B ) → ∀ x ( x ∈ A → x ∈ B ) )\n"
     ]
    },
    {
     "ename": "KeyError",
     "evalue": "'wch'",
     "output_type": "error",
     "traceback": [
      "\u001b[1;31m---------------------------------------------------------------------------\u001b[0m",
      "\u001b[1;31mKeyError\u001b[0m                                  Traceback (most recent call last)",
      "\u001b[1;32m<ipython-input-13-476f3563a298>\u001b[0m in \u001b[0;36m<module>\u001b[1;34m\u001b[0m\n\u001b[0;32m      8\u001b[0m \u001b[1;33m\u001b[0m\u001b[0m\n\u001b[0;32m      9\u001b[0m \u001b[1;32mfor\u001b[0m \u001b[0mexp_step\u001b[0m \u001b[1;32min\u001b[0m \u001b[0mexp_proof\u001b[0m\u001b[1;33m:\u001b[0m\u001b[1;33m\u001b[0m\u001b[1;33m\u001b[0m\u001b[0m\n\u001b[1;32m---> 10\u001b[1;33m     \u001b[0mprint\u001b[0m\u001b[1;33m(\u001b[0m\u001b[1;34m\"--- [{}]\"\u001b[0m\u001b[1;33m.\u001b[0m\u001b[0mformat\u001b[0m\u001b[1;33m(\u001b[0m\u001b[0mexp_step\u001b[0m\u001b[1;33m.\u001b[0m\u001b[0mprop\u001b[0m\u001b[1;33m.\u001b[0m\u001b[0mlabel\u001b[0m\u001b[1;33m)\u001b[0m\u001b[1;33m,\u001b[0m \u001b[1;34m\"|-\"\u001b[0m\u001b[1;33m,\u001b[0m \u001b[0mreplace_symbols\u001b[0m\u001b[1;33m(\u001b[0m\u001b[0mexp_step\u001b[0m\u001b[1;33m.\u001b[0m\u001b[0mtree\u001b[0m\u001b[1;33m.\u001b[0m\u001b[0meval\u001b[0m\u001b[1;33m(\u001b[0m\u001b[0mdatabase\u001b[0m\u001b[1;33m,\u001b[0m \u001b[0mroot_step\u001b[0m\u001b[1;33m.\u001b[0m\u001b[0mcontext\u001b[0m\u001b[1;33m)\u001b[0m\u001b[1;33m)\u001b[0m\u001b[1;33m)\u001b[0m\u001b[1;33m\u001b[0m\u001b[1;33m\u001b[0m\u001b[0m\n\u001b[0m",
      "\u001b[1;32m~\\Google Drive\\UFABC\\Pesquisa\\AutoProof\\Matutor\\Prototype\\mathview\\tree.py\u001b[0m in \u001b[0;36meval\u001b[1;34m(self, database, context)\u001b[0m\n\u001b[0;32m    288\u001b[0m \u001b[1;33m\u001b[0m\u001b[0m\n\u001b[0;32m    289\u001b[0m     \u001b[1;32mdef\u001b[0m \u001b[0meval\u001b[0m\u001b[1;33m(\u001b[0m\u001b[0mself\u001b[0m\u001b[1;33m,\u001b[0m \u001b[0mdatabase\u001b[0m\u001b[1;33m,\u001b[0m \u001b[0mcontext\u001b[0m\u001b[1;33m)\u001b[0m\u001b[1;33m:\u001b[0m\u001b[1;33m\u001b[0m\u001b[1;33m\u001b[0m\u001b[0m\n\u001b[1;32m--> 290\u001b[1;33m         \u001b[1;32mreturn\u001b[0m \u001b[1;34m\" \"\u001b[0m\u001b[1;33m.\u001b[0m\u001b[0mjoin\u001b[0m\u001b[1;33m(\u001b[0m\u001b[0mtree_parser\u001b[0m\u001b[1;33m.\u001b[0m\u001b[0mtree_to_string\u001b[0m\u001b[1;33m(\u001b[0m\u001b[0mself\u001b[0m\u001b[1;33m,\u001b[0m \u001b[0mdatabase\u001b[0m\u001b[1;33m,\u001b[0m \u001b[0mcontext\u001b[0m\u001b[1;33m)\u001b[0m\u001b[1;33m)\u001b[0m\u001b[1;33m\u001b[0m\u001b[1;33m\u001b[0m\u001b[0m\n\u001b[0m",
      "\u001b[1;32m~\\Google Drive\\UFABC\\Pesquisa\\AutoProof\\Matutor\\Prototype\\mathview\\tree_parser.py\u001b[0m in \u001b[0;36mtree_to_string\u001b[1;34m(tree, database, context)\u001b[0m\n\u001b[0;32m    116\u001b[0m \u001b[1;32mdef\u001b[0m \u001b[0mtree_to_string\u001b[0m\u001b[1;33m(\u001b[0m\u001b[0mtree\u001b[0m\u001b[1;33m,\u001b[0m \u001b[0mdatabase\u001b[0m\u001b[1;33m,\u001b[0m \u001b[0mcontext\u001b[0m\u001b[1;33m)\u001b[0m\u001b[1;33m:\u001b[0m\u001b[1;33m\u001b[0m\u001b[1;33m\u001b[0m\u001b[0m\n\u001b[0;32m    117\u001b[0m     \u001b[1;32mif\u001b[0m \u001b[0mtree\u001b[0m\u001b[1;33m.\u001b[0m\u001b[0mvalue\u001b[0m \u001b[1;32min\u001b[0m \u001b[0mcontext\u001b[0m\u001b[1;33m.\u001b[0m\u001b[0mf\u001b[0m\u001b[1;33m:\u001b[0m \u001b[1;32mreturn\u001b[0m \u001b[0mcontext\u001b[0m\u001b[1;33m.\u001b[0m\u001b[0mf\u001b[0m\u001b[1;33m[\u001b[0m\u001b[0mtree\u001b[0m\u001b[1;33m.\u001b[0m\u001b[0mvalue\u001b[0m\u001b[1;33m]\u001b[0m\u001b[1;33m.\u001b[0m\u001b[0mstatement\u001b[0m\u001b[1;33m\u001b[0m\u001b[1;33m\u001b[0m\u001b[0m\n\u001b[1;32m--> 118\u001b[1;33m     \u001b[0mprop\u001b[0m \u001b[1;33m=\u001b[0m \u001b[0mdatabase\u001b[0m\u001b[1;33m.\u001b[0m\u001b[0mpropositions\u001b[0m\u001b[1;33m[\u001b[0m\u001b[0mtree\u001b[0m\u001b[1;33m.\u001b[0m\u001b[0mvalue\u001b[0m\u001b[1;33m]\u001b[0m\u001b[1;33m\u001b[0m\u001b[1;33m\u001b[0m\u001b[0m\n\u001b[0m\u001b[0;32m    119\u001b[0m     \u001b[1;32massert\u001b[0m \u001b[0mlen\u001b[0m\u001b[1;33m(\u001b[0m\u001b[0mtree\u001b[0m\u001b[1;33m.\u001b[0m\u001b[0mleaves\u001b[0m\u001b[1;33m)\u001b[0m\u001b[1;33m==\u001b[0m\u001b[0mlen\u001b[0m\u001b[1;33m(\u001b[0m\u001b[0mprop\u001b[0m\u001b[1;33m.\u001b[0m\u001b[0mhyps\u001b[0m\u001b[1;33m)\u001b[0m\u001b[1;33m\u001b[0m\u001b[1;33m\u001b[0m\u001b[0m\n\u001b[0;32m    120\u001b[0m     \u001b[0mreplacement_dict\u001b[0m \u001b[1;33m=\u001b[0m \u001b[1;33m{\u001b[0m\u001b[0mprop\u001b[0m\u001b[1;33m.\u001b[0m\u001b[0mhyps\u001b[0m\u001b[1;33m[\u001b[0m\u001b[0mi\u001b[0m\u001b[1;33m]\u001b[0m\u001b[1;33m.\u001b[0m\u001b[0mvariable\u001b[0m\u001b[1;33m:\u001b[0m\u001b[0mtree_to_string\u001b[0m\u001b[1;33m(\u001b[0m\u001b[0mtree\u001b[0m\u001b[1;33m.\u001b[0m\u001b[0mleaves\u001b[0m\u001b[1;33m[\u001b[0m\u001b[0mi\u001b[0m\u001b[1;33m]\u001b[0m\u001b[1;33m,\u001b[0m \u001b[0mdatabase\u001b[0m\u001b[1;33m,\u001b[0m \u001b[0mcontext\u001b[0m\u001b[1;33m)\u001b[0m \u001b[1;32mfor\u001b[0m \u001b[0mi\u001b[0m \u001b[1;32min\u001b[0m \u001b[0mrange\u001b[0m\u001b[1;33m(\u001b[0m\u001b[0mlen\u001b[0m\u001b[1;33m(\u001b[0m\u001b[0mprop\u001b[0m\u001b[1;33m.\u001b[0m\u001b[0mhyps\u001b[0m\u001b[1;33m)\u001b[0m\u001b[1;33m)\u001b[0m \u001b[1;32mif\u001b[0m \u001b[0mprop\u001b[0m\u001b[1;33m.\u001b[0m\u001b[0mhyps\u001b[0m\u001b[1;33m[\u001b[0m\u001b[0mi\u001b[0m\u001b[1;33m]\u001b[0m\u001b[1;33m.\u001b[0m\u001b[0mtype\u001b[0m \u001b[1;33m==\u001b[0m \u001b[1;34m\"f\"\u001b[0m\u001b[1;33m}\u001b[0m \u001b[1;31m#find the replacement rules for the variables\u001b[0m\u001b[1;33m\u001b[0m\u001b[1;33m\u001b[0m\u001b[0m\n",
      "\u001b[1;31mKeyError\u001b[0m: 'wch'"
     ]
    }
   ],
   "source": [
    "root_step = exp_proof[-1]\n",
    "done_steps.append(root_step)\n",
    "exp_proof = expand_proof_step(root_step)\n",
    "\n",
    "\n",
    "print(\"[{}]\".format(root_step.prop.label), \"|-\", replace_symbols(root_step.tree.eval(database, root_step.context)))\n",
    "print()\n",
    "\n",
    "for exp_step in exp_proof:\n",
    "    print(\"--- [{}]\".format(exp_step.prop.label), \"|-\", replace_symbols(exp_step.tree.eval(database, root_step.context)))"
   ]
  },
  {
   "cell_type": "code",
   "execution_count": 67,
   "id": "e7d45761",
   "metadata": {},
   "outputs": [
    {
     "data": {
      "text/plain": [
       "[{'wph': <Tree: wss(cA(),cB())>,\n",
       "  'wps': <Tree: wal(wb(wcel(cv(vx()),cA()),wa(wcel(cv(vx()),cA()),wcel(cv(vx()),cB()))),vx())>,\n",
       "  'wch': <Tree: wal(wi(wcel(cv(vx()),cA()),wcel(cv(vx()),cB())),vx())>}]"
      ]
     },
     "execution_count": 67,
     "metadata": {},
     "output_type": "execute_result"
    }
   ],
   "source": [
    "done_steps[0].replace_dict_list"
   ]
  },
  {
   "cell_type": "code",
   "execution_count": 68,
   "id": "b53ec19a",
   "metadata": {},
   "outputs": [
    {
     "data": {
      "text/plain": [
       "[{'wph': <Tree: wph()>, 'wps': <Tree: wps()>, 'wch': <Tree: wch()>},\n",
       " {'wph': <Tree: wss(cA(),cB())>,\n",
       "  'wps': <Tree: wal(wb(wcel(cv(vx()),cA()),wa(wcel(cv(vx()),cA()),wcel(cv(vx()),cB()))),vx())>,\n",
       "  'wch': <Tree: wal(wi(wcel(cv(vx()),cA()),wcel(cv(vx()),cB())),vx())>}]"
      ]
     },
     "execution_count": 68,
     "metadata": {},
     "output_type": "execute_result"
    }
   ],
   "source": [
    "done_steps[1].replace_dict_list"
   ]
  },
  {
   "cell_type": "code",
   "execution_count": 69,
   "id": "9881c4d8",
   "metadata": {},
   "outputs": [
    {
     "data": {
      "text/plain": [
       "[{'wph': <Tree: wph()>, 'wps': <Tree: wch()>},\n",
       " {'wph': <Tree: wph()>, 'wps': <Tree: wps()>, 'wch': <Tree: wch()>},\n",
       " {'wph': <Tree: wss(cA(),cB())>,\n",
       "  'wps': <Tree: wal(wb(wcel(cv(vx()),cA()),wa(wcel(cv(vx()),cA()),wcel(cv(vx()),cB()))),vx())>,\n",
       "  'wch': <Tree: wal(wi(wcel(cv(vx()),cA()),wcel(cv(vx()),cB())),vx())>}]"
      ]
     },
     "execution_count": 69,
     "metadata": {},
     "output_type": "execute_result"
    }
   ],
   "source": [
    "done_steps[2].replace_dict_list"
   ]
  },
  {
   "cell_type": "code",
   "execution_count": 72,
   "id": "aad0de64",
   "metadata": {},
   "outputs": [
    {
     "ename": "AttributeError",
     "evalue": "'Tree' object has no attribute 'replace_dict_list'",
     "output_type": "error",
     "traceback": [
      "\u001b[1;31m---------------------------------------------------------------------------\u001b[0m",
      "\u001b[1;31mAttributeError\u001b[0m                            Traceback (most recent call last)",
      "\u001b[1;32m<ipython-input-72-07ee4b766d91>\u001b[0m in \u001b[0;36m<module>\u001b[1;34m\u001b[0m\n\u001b[1;32m----> 1\u001b[1;33m \u001b[0mdone_steps\u001b[0m\u001b[1;33m[\u001b[0m\u001b[1;36m3\u001b[0m\u001b[1;33m]\u001b[0m\u001b[1;33m.\u001b[0m\u001b[0mtree\u001b[0m\u001b[1;33m.\u001b[0m\u001b[0mreplace_dict_list\u001b[0m\u001b[1;33m\u001b[0m\u001b[1;33m\u001b[0m\u001b[0m\n\u001b[0m",
      "\u001b[1;31mAttributeError\u001b[0m: 'Tree' object has no attribute 'replace_dict_list'"
     ]
    }
   ],
   "source": [
    "done_steps[3].tree.replace_dict_list"
   ]
  },
  {
   "cell_type": "code",
   "execution_count": 71,
   "id": "57b3ef32",
   "metadata": {},
   "outputs": [
    {
     "data": {
      "text/plain": [
       "[{'wph': <Tree: wss(cA(),cB())>,\n",
       "  'wps': <Tree: wss(cB(),cC())>,\n",
       "  'wch': <Tree: wss(cA(),cC())>}]"
      ]
     },
     "execution_count": 71,
     "metadata": {},
     "output_type": "execute_result"
    }
   ],
   "source": [
    "database.propositions[\"mp2\"].tree.replace_dict_list"
   ]
  },
  {
   "cell_type": "code",
   "execution_count": null,
   "id": "0b13a247",
   "metadata": {},
   "outputs": [],
   "source": []
  },
  {
   "cell_type": "code",
   "execution_count": null,
   "id": "d35036ad",
   "metadata": {},
   "outputs": [],
   "source": []
  }
 ],
 "metadata": {
  "kernelspec": {
   "display_name": "Python 3",
   "language": "python",
   "name": "python3"
  },
  "language_info": {
   "codemirror_mode": {
    "name": "ipython",
    "version": 3
   },
   "file_extension": ".py",
   "mimetype": "text/x-python",
   "name": "python",
   "nbconvert_exporter": "python",
   "pygments_lexer": "ipython3",
   "version": "3.9.6"
  }
 },
 "nbformat": 4,
 "nbformat_minor": 5
}
