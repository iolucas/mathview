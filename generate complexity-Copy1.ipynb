{
 "cells": [
  {
   "cell_type": "code",
   "execution_count": 2,
   "id": "610df062",
   "metadata": {},
   "outputs": [],
   "source": [
    "from theorem_database import TheoremDatabase"
   ]
  },
  {
   "cell_type": "code",
   "execution_count": 4,
   "id": "d2450569",
   "metadata": {},
   "outputs": [],
   "source": [
    "tdb = TheoremDatabase(\"tdb\")"
   ]
  },
  {
   "cell_type": "code",
   "execution_count": 5,
   "id": "e450a714",
   "metadata": {},
   "outputs": [],
   "source": [
    "def get_theorem_complexity(theorem_name):\n",
    "    theorem = tdb[theorem_name]\n",
    "    \n",
    "    if theorem == None:\n",
    "        return 0\n",
    "    \n",
    "    if \"complexity\" not in theorem:\n",
    "        print(theorem[\"theorem\"])\n",
    "        \n",
    "        if len(theorem[\"steps\"]) == 0:\n",
    "            theorem[\"complexity\"] = 1\n",
    "        else:\n",
    "            theorem[\"complexity\"] = sum([get_theorem_complexity(tt[\"theorem\"]) for tt in theorem[\"steps\"]])\n",
    "            \n",
    "    return theorem[\"complexity\"]"
   ]
  },
  {
   "cell_type": "code",
   "execution_count": 6,
   "id": "2ec33366",
   "metadata": {},
   "outputs": [
    {
     "name": "stdout",
     "output_type": "stream",
     "text": [
      "2p2e4\n",
      "df-4\n",
      "df-3\n"
     ]
    }
   ],
   "source": [
    "comp = get_theorem_complexity(\"2p2e4\")"
   ]
  },
  {
   "cell_type": "code",
   "execution_count": 7,
   "id": "3d59af1a",
   "metadata": {},
   "outputs": [],
   "source": [
    "    \n",
    "tdb.save()"
   ]
  },
  {
   "cell_type": "code",
   "execution_count": 8,
   "id": "4d221d1d",
   "metadata": {},
   "outputs": [
    {
     "data": {
      "text/plain": [
       "{'theorem': '2p2e4',\n",
       " 'expression': '⊢ (2 + 2) = 4',\n",
       " 'steps': [{'step': '1', 'theorem': 'df-2', 'expression': '⊢ 2 = (1 + 1)'},\n",
       "  {'step': '2',\n",
       "   'theorem': 'oveq2i',\n",
       "   'expression': '⊢ (2 + 2) = (2 + (1 + 1))'},\n",
       "  {'step': '3', 'theorem': 'df-4', 'expression': '⊢ 4 = (3 + 1)'},\n",
       "  {'step': '4', 'theorem': 'df-3', 'expression': '⊢ 3 = (2 + 1)'},\n",
       "  {'step': '5',\n",
       "   'theorem': 'oveq1i',\n",
       "   'expression': '⊢ (3 + 1) = ((2 + 1) + 1)'},\n",
       "  {'step': '6', 'theorem': '2cn', 'expression': '⊢ 2 ∈ ℂ'},\n",
       "  {'step': '7', 'theorem': 'ax-1cn', 'expression': '⊢ 1 ∈ ℂ'},\n",
       "  {'step': '8',\n",
       "   'theorem': 'addassi',\n",
       "   'expression': '⊢ ((2 + 1) + 1) = (2 + (1 + 1))'},\n",
       "  {'step': '9', 'theorem': '3eqtri', 'expression': '⊢ 4 = (2 + (1 + 1))'},\n",
       "  {'step': '10', 'theorem': 'eqtr4i', 'expression': '⊢ (2 + 2) = 4'}],\n",
       " 'hyps': [('2', '1', 0),\n",
       "  ('5', '4', 0),\n",
       "  ('8', '6', 0),\n",
       "  ('8', '7', 1),\n",
       "  ('8', '7', 2),\n",
       "  ('9', '3', 0),\n",
       "  ('9', '5', 1),\n",
       "  ('9', '8', 2),\n",
       "  ('10', '2', 0),\n",
       "  ('10', '9', 1)],\n",
       " 'complexity': 514680406097}"
      ]
     },
     "execution_count": 8,
     "metadata": {},
     "output_type": "execute_result"
    }
   ],
   "source": [
    "tdb[\"2p2e4\"]"
   ]
  },
  {
   "cell_type": "code",
   "execution_count": null,
   "id": "1f12b601",
   "metadata": {},
   "outputs": [],
   "source": []
  }
 ],
 "metadata": {
  "kernelspec": {
   "display_name": "Python 3",
   "language": "python",
   "name": "python3"
  },
  "language_info": {
   "codemirror_mode": {
    "name": "ipython",
    "version": 3
   },
   "file_extension": ".py",
   "mimetype": "text/x-python",
   "name": "python",
   "nbconvert_exporter": "python",
   "pygments_lexer": "ipython3",
   "version": "3.9.6"
  }
 },
 "nbformat": 4,
 "nbformat_minor": 5
}
