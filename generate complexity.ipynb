{
 "cells": [
  {
   "cell_type": "code",
   "execution_count": 56,
   "id": "610df062",
   "metadata": {},
   "outputs": [],
   "source": [
    "from theorem_database import TheoremDatabase"
   ]
  },
  {
   "cell_type": "code",
   "execution_count": 57,
   "id": "d2450569",
   "metadata": {},
   "outputs": [],
   "source": [
    "tdb = TheoremDatabase(\"tdb\")"
   ]
  },
  {
   "cell_type": "code",
   "execution_count": 62,
   "id": "c443ab89",
   "metadata": {},
   "outputs": [
    {
     "ename": "TypeError",
     "evalue": "'NoneType' object is not subscriptable",
     "output_type": "error",
     "traceback": [
      "\u001b[1;31m---------------------------------------------------------------------------\u001b[0m",
      "\u001b[1;31mTypeError\u001b[0m                                 Traceback (most recent call last)",
      "\u001b[1;32m<ipython-input-62-74588ec7ee21>\u001b[0m in \u001b[0;36m<module>\u001b[1;34m\u001b[0m\n\u001b[1;32m----> 1\u001b[1;33m \u001b[0mtdb\u001b[0m\u001b[1;33m[\u001b[0m\u001b[1;34m\"a1i.1\"\u001b[0m\u001b[1;33m]\u001b[0m\u001b[1;33m[\u001b[0m\u001b[1;34m\"complexity\"\u001b[0m\u001b[1;33m]\u001b[0m\u001b[1;33m\u001b[0m\u001b[1;33m\u001b[0m\u001b[0m\n\u001b[0m",
      "\u001b[1;31mTypeError\u001b[0m: 'NoneType' object is not subscriptable"
     ]
    }
   ],
   "source": [
    "tdb[\"a1i.1\"][\"complexity\"]"
   ]
  },
  {
   "cell_type": "code",
   "execution_count": 3,
   "id": "ce637332",
   "metadata": {},
   "outputs": [
    {
     "data": {
      "text/plain": [
       "{'theorem': '2p2e4',\n",
       " 'expression': '⊢ (2 + 2) = 4',\n",
       " 'steps': [{'step': '1', 'theorem': 'df-2', 'expression': '⊢ 2 = (1 + 1)'},\n",
       "  {'step': '2',\n",
       "   'theorem': 'oveq2i',\n",
       "   'expression': '⊢ (2 + 2) = (2 + (1 + 1))'},\n",
       "  {'step': '3', 'theorem': 'df-4', 'expression': '⊢ 4 = (3 + 1)'},\n",
       "  {'step': '4', 'theorem': 'df-3', 'expression': '⊢ 3 = (2 + 1)'},\n",
       "  {'step': '5',\n",
       "   'theorem': 'oveq1i',\n",
       "   'expression': '⊢ (3 + 1) = ((2 + 1) + 1)'},\n",
       "  {'step': '6', 'theorem': '2cn', 'expression': '⊢ 2 ∈ ℂ'},\n",
       "  {'step': '7', 'theorem': 'ax-1cn', 'expression': '⊢ 1 ∈ ℂ'},\n",
       "  {'step': '8',\n",
       "   'theorem': 'addassi',\n",
       "   'expression': '⊢ ((2 + 1) + 1) = (2 + (1 + 1))'},\n",
       "  {'step': '9', 'theorem': '3eqtri', 'expression': '⊢ 4 = (2 + (1 + 1))'},\n",
       "  {'step': '10', 'theorem': 'eqtr4i', 'expression': '⊢ (2 + 2) = 4'}],\n",
       " 'hyps': [('2', '1', 0),\n",
       "  ('5', '4', 0),\n",
       "  ('8', '6', 0),\n",
       "  ('8', '7', 1),\n",
       "  ('8', '7', 2),\n",
       "  ('9', '3', 0),\n",
       "  ('9', '5', 1),\n",
       "  ('9', '8', 2),\n",
       "  ('10', '2', 0),\n",
       "  ('10', '9', 1)]}"
      ]
     },
     "execution_count": 3,
     "metadata": {},
     "output_type": "execute_result"
    }
   ],
   "source": [
    "tdb[\"2p2e4\"]"
   ]
  },
  {
   "cell_type": "code",
   "execution_count": 5,
   "id": "97c6fef6",
   "metadata": {},
   "outputs": [],
   "source": [
    "for i, step in enumerate(tdb[\"opoeALTV\"][\"steps\"]):\n",
    "    #print(i)\n",
    "    step_theorem = step[\"theorem\"]\n",
    "    _ = tdb[step_theorem]"
   ]
  },
  {
   "cell_type": "code",
   "execution_count": 30,
   "id": "46ee2569",
   "metadata": {},
   "outputs": [],
   "source": [
    "tdb.save()"
   ]
  },
  {
   "cell_type": "code",
   "execution_count": 6,
   "id": "da1c8e3e",
   "metadata": {},
   "outputs": [
    {
     "name": "stdout",
     "output_type": "stream",
     "text": [
      "0\n"
     ]
    }
   ],
   "source": [
    "not_download_theorems = set()\n",
    "for t in tdb.database.values():\n",
    "    for tt in t[\"steps\"]:\n",
    "        tt_theorem = tt[\"theorem\"]\n",
    "        if tt_theorem not in tdb.database and \".\" not in tt_theorem:\n",
    "            not_download_theorems.add(tt_theorem)\n",
    "            \n",
    "print(len(not_download_theorems))"
   ]
  },
  {
   "cell_type": "code",
   "execution_count": 7,
   "id": "d0a675d1",
   "metadata": {},
   "outputs": [],
   "source": [
    "n_theorems = len(not_download_theorems)\n",
    "for i, tt in enumerate(not_download_theorems):\n",
    "    print(f\"\\r{i+1}/{n_theorems}\", end=\"\")\n",
    "    _ = tdb[tt]\n",
    "    \n",
    "tdb.save()"
   ]
  },
  {
   "cell_type": "code",
   "execution_count": 8,
   "id": "d902f2a2",
   "metadata": {},
   "outputs": [
    {
     "data": {
      "text/plain": [
       "2971"
      ]
     },
     "execution_count": 8,
     "metadata": {},
     "output_type": "execute_result"
    }
   ],
   "source": [
    "len(tdb.database)"
   ]
  },
  {
   "cell_type": "code",
   "execution_count": 9,
   "id": "6792eb7a",
   "metadata": {},
   "outputs": [
    {
     "data": {
      "text/plain": [
       "{'theorem': 'ax-mp', 'expression': '⊢ 𝜓', 'steps': [], 'hyps': []}"
      ]
     },
     "execution_count": 9,
     "metadata": {},
     "output_type": "execute_result"
    }
   ],
   "source": [
    "tdb[\"ax-mp\"]"
   ]
  },
  {
   "cell_type": "code",
   "execution_count": 27,
   "id": "e450a714",
   "metadata": {},
   "outputs": [],
   "source": [
    "def get_theorem_complexity(theorem_name):\n",
    "    theorem = tdb[theorem_name]\n",
    "    \n",
    "    if theorem == None:\n",
    "        return 0\n",
    "    \n",
    "    if \"complexity\" not in theorem:\n",
    "        print(theorem[\"theorem\"])\n",
    "        \n",
    "        if len(theorem[\"steps\"]) == 0:\n",
    "            theorem[\"complexity\"] = 1\n",
    "        else:\n",
    "            theorem[\"complexity\"] = sum([get_theorem_complexity(tt[\"theorem\"]) for tt in theorem[\"steps\"]])\n",
    "            \n",
    "    return theorem[\"complexity\"]"
   ]
  },
  {
   "cell_type": "code",
   "execution_count": 45,
   "id": "8c5e0705",
   "metadata": {},
   "outputs": [],
   "source": [
    "import numpy as np"
   ]
  },
  {
   "cell_type": "code",
   "execution_count": 47,
   "id": "d2bcfcbd",
   "metadata": {},
   "outputs": [],
   "source": [
    "comp = get_theorem_complexity(\"opoeALTV\")"
   ]
  },
  {
   "cell_type": "code",
   "execution_count": 53,
   "id": "09f6ac81",
   "metadata": {},
   "outputs": [],
   "source": [
    "import math"
   ]
  },
  {
   "cell_type": "code",
   "execution_count": 55,
   "id": "efd02923",
   "metadata": {},
   "outputs": [
    {
     "data": {
      "text/plain": [
       "5776561861390952832655756"
      ]
     },
     "execution_count": 55,
     "metadata": {},
     "output_type": "execute_result"
    }
   ],
   "source": [
    "comp /"
   ]
  },
  {
   "cell_type": "code",
   "execution_count": 49,
   "id": "1c525801",
   "metadata": {},
   "outputs": [
    {
     "ename": "TypeError",
     "evalue": "loop of ufunc does not support argument 0 of type int which has no callable log method",
     "output_type": "error",
     "traceback": [
      "\u001b[1;31m---------------------------------------------------------------------------\u001b[0m",
      "\u001b[1;31mAttributeError\u001b[0m                            Traceback (most recent call last)",
      "\u001b[1;31mAttributeError\u001b[0m: 'int' object has no attribute 'log'",
      "\nThe above exception was the direct cause of the following exception:\n",
      "\u001b[1;31mTypeError\u001b[0m                                 Traceback (most recent call last)",
      "\u001b[1;32m<ipython-input-49-ab2c5027ad9c>\u001b[0m in \u001b[0;36m<module>\u001b[1;34m\u001b[0m\n\u001b[1;32m----> 1\u001b[1;33m \u001b[0mnp\u001b[0m\u001b[1;33m.\u001b[0m\u001b[0mlog\u001b[0m\u001b[1;33m(\u001b[0m\u001b[0mcomp\u001b[0m\u001b[1;33m)\u001b[0m\u001b[1;33m\u001b[0m\u001b[1;33m\u001b[0m\u001b[0m\n\u001b[0m",
      "\u001b[1;31mTypeError\u001b[0m: loop of ufunc does not support argument 0 of type int which has no callable log method"
     ]
    }
   ],
   "source": [
    "np.log(comp)"
   ]
  },
  {
   "cell_type": "code",
   "execution_count": 29,
   "id": "4014196c",
   "metadata": {},
   "outputs": [
    {
     "data": {
      "text/plain": [
       "{'theorem': 'hbsb2',\n",
       " 'expression': '⊢ (¬ ∀𝑥 𝑥 = 𝑦 → ([𝑦 / 𝑥]𝜑 → ∀𝑥[𝑦 / 𝑥]𝜑))',\n",
       " 'steps': [{'step': '1',\n",
       "   'theorem': 'sb4',\n",
       "   'expression': '⊢ (¬ ∀𝑥 𝑥 = 𝑦 → ([𝑦 / 𝑥]𝜑 → ∀𝑥(𝑥 = 𝑦 → 𝜑)))'},\n",
       "  {'step': '2',\n",
       "   'theorem': 'sb2',\n",
       "   'expression': '⊢ (∀𝑥(𝑥 = 𝑦 → 𝜑) → [𝑦 / 𝑥]𝜑)'},\n",
       "  {'step': '3',\n",
       "   'theorem': 'axc4i',\n",
       "   'expression': '⊢ (∀𝑥(𝑥 = 𝑦 → 𝜑) → ∀𝑥[𝑦 / 𝑥]𝜑)'},\n",
       "  {'step': '4',\n",
       "   'theorem': 'syl6',\n",
       "   'expression': '⊢ (¬ ∀𝑥 𝑥 = 𝑦 → ([𝑦 / 𝑥]𝜑 → ∀𝑥[𝑦 / 𝑥]𝜑))'}],\n",
       " 'hyps': [('3', '2', 0), ('4', '1', 0), ('4', '3', 1)]}"
      ]
     },
     "execution_count": 29,
     "metadata": {},
     "output_type": "execute_result"
    }
   ],
   "source": [
    "tdb[\"hbsb2\"]"
   ]
  },
  {
   "cell_type": "code",
   "execution_count": 18,
   "id": "c888ce74",
   "metadata": {},
   "outputs": [],
   "source": [
    "#Remove all complexity values\n",
    "for k in tdb.database.keys():\n",
    "    if tdb[k] and \"complexity\" in tdb[k]:\n",
    "        del tdb[k][\"complexity\"]"
   ]
  },
  {
   "cell_type": "code",
   "execution_count": 44,
   "id": "415a8ab6",
   "metadata": {},
   "outputs": [],
   "source": [
    "tdb.save()"
   ]
  },
  {
   "cell_type": "code",
   "execution_count": 93,
   "id": "014c58aa",
   "metadata": {},
   "outputs": [
    {
     "data": {
      "text/plain": [
       "{'theorem': 'a1i',\n",
       " 'expression': '⊢ (𝜓 → 𝜑)',\n",
       " 'steps': [{'step': '1', 'theorem': 'a1i.1', 'expression': '⊢ 𝜑'},\n",
       "  {'step': '2', 'theorem': 'ax-1', 'expression': '⊢ (𝜑 → (𝜓 → 𝜑))'},\n",
       "  {'step': '3', 'theorem': 'ax-mp', 'expression': '⊢ (𝜓 → 𝜑)'}],\n",
       " 'hyps': [('3', '1', 0), ('3', '2', 1)]}"
      ]
     },
     "execution_count": 93,
     "metadata": {},
     "output_type": "execute_result"
    }
   ],
   "source": [
    "tdb.database[\"a1i\"]"
   ]
  },
  {
   "cell_type": "code",
   "execution_count": 83,
   "id": "425ab9d5",
   "metadata": {},
   "outputs": [
    {
     "data": {
      "text/plain": [
       "[{'step': '1', 'theorem': 'dfss', 'expression': '⊢ (𝐴 ⊆ 𝐵 ↔ 𝐴 = (𝐴 ∩ 𝐵))'},\n",
       " {'step': '2',\n",
       "  'theorem': 'df-in',\n",
       "  'expression': '⊢ (𝐴 ∩ 𝐵) = {𝑥 ∣ (𝑥 ∈ 𝐴 ∧ 𝑥 ∈ 𝐵)}'},\n",
       " {'step': '3',\n",
       "  'theorem': 'eqeq2i',\n",
       "  'expression': '⊢ (𝐴 = (𝐴 ∩ 𝐵) ↔ 𝐴 = {𝑥 ∣ (𝑥 ∈ 𝐴 ∧ 𝑥 ∈ 𝐵)})'},\n",
       " {'step': '4',\n",
       "  'theorem': 'abeq2',\n",
       "  'expression': '⊢ (𝐴 = {𝑥 ∣ (𝑥 ∈ 𝐴 ∧ 𝑥 ∈ 𝐵)} ↔ ∀𝑥(𝑥 ∈ 𝐴 ↔ (𝑥 ∈ 𝐴 ∧ 𝑥 ∈ 𝐵)))'},\n",
       " {'step': '5',\n",
       "  'theorem': '3bitri',\n",
       "  'expression': '⊢ (𝐴 ⊆ 𝐵 ↔ ∀𝑥(𝑥 ∈ 𝐴 ↔ (𝑥 ∈ 𝐴 ∧ 𝑥 ∈ 𝐵)))'},\n",
       " {'step': '6',\n",
       "  'theorem': 'pm4.71',\n",
       "  'expression': '⊢ ((𝑥 ∈ 𝐴 → 𝑥 ∈ 𝐵) ↔ (𝑥 ∈ 𝐴 ↔ (𝑥 ∈ 𝐴 ∧ 𝑥 ∈ 𝐵)))'},\n",
       " {'step': '7',\n",
       "  'theorem': 'albii',\n",
       "  'expression': '⊢ (∀𝑥(𝑥 ∈ 𝐴 → 𝑥 ∈ 𝐵) ↔ ∀𝑥(𝑥 ∈ 𝐴 ↔ (𝑥 ∈ 𝐴 ∧ 𝑥 ∈ 𝐵)))'},\n",
       " {'step': '8',\n",
       "  'theorem': 'bitr4i',\n",
       "  'expression': '⊢ (𝐴 ⊆ 𝐵 ↔ ∀𝑥(𝑥 ∈ 𝐴 → 𝑥 ∈ 𝐵))'}]"
      ]
     },
     "execution_count": 83,
     "metadata": {},
     "output_type": "execute_result"
    }
   ],
   "source": [
    "tdb[\"dfss2\"][\"steps\"]"
   ]
  },
  {
   "cell_type": "code",
   "execution_count": null,
   "id": "4d221d1d",
   "metadata": {},
   "outputs": [],
   "source": []
  }
 ],
 "metadata": {
  "kernelspec": {
   "display_name": "Python 3 (ipykernel)",
   "language": "python",
   "name": "python3"
  },
  "language_info": {
   "codemirror_mode": {
    "name": "ipython",
    "version": 3
   },
   "file_extension": ".py",
   "mimetype": "text/x-python",
   "name": "python",
   "nbconvert_exporter": "python",
   "pygments_lexer": "ipython3",
   "version": "3.9.7"
  }
 },
 "nbformat": 4,
 "nbformat_minor": 5
}
