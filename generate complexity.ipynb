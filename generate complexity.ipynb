{
 "cells": [
  {
   "cell_type": "code",
   "execution_count": 1,
   "id": "e2975de3",
   "metadata": {},
   "outputs": [],
   "source": [
    "from theorem_database import TheoremDatabase"
   ]
  },
  {
   "cell_type": "code",
   "execution_count": 6,
   "id": "2c5a996c",
   "metadata": {},
   "outputs": [],
   "source": [
    "tdb = TheoremDatabase(\"tdb\")"
   ]
  },
  {
   "cell_type": "code",
   "execution_count": 7,
   "id": "e9d3f8f8",
   "metadata": {},
   "outputs": [
    {
     "data": {
      "text/plain": [
       "{'theorem': '2p2e4',\n",
       " 'expression': '⊢ (2 + 2) = 4',\n",
       " 'steps': [{'step': '1', 'theorem': 'df-2', 'expression': '⊢ 2 = (1 + 1)'},\n",
       "  {'step': '2',\n",
       "   'theorem': 'oveq2i',\n",
       "   'expression': '⊢ (2 + 2) = (2 + (1 + 1))'},\n",
       "  {'step': '3', 'theorem': 'df-4', 'expression': '⊢ 4 = (3 + 1)'},\n",
       "  {'step': '4', 'theorem': 'df-3', 'expression': '⊢ 3 = (2 + 1)'},\n",
       "  {'step': '5',\n",
       "   'theorem': 'oveq1i',\n",
       "   'expression': '⊢ (3 + 1) = ((2 + 1) + 1)'},\n",
       "  {'step': '6', 'theorem': '2cn', 'expression': '⊢ 2 ∈ ℂ'},\n",
       "  {'step': '7', 'theorem': 'ax-1cn', 'expression': '⊢ 1 ∈ ℂ'},\n",
       "  {'step': '8',\n",
       "   'theorem': 'addassi',\n",
       "   'expression': '⊢ ((2 + 1) + 1) = (2 + (1 + 1))'},\n",
       "  {'step': '9', 'theorem': '3eqtri', 'expression': '⊢ 4 = (2 + (1 + 1))'},\n",
       "  {'step': '10', 'theorem': 'eqtr4i', 'expression': '⊢ (2 + 2) = 4'}],\n",
       " 'hyps': [('2', '1', 0),\n",
       "  ('5', '4', 0),\n",
       "  ('8', '6', 0),\n",
       "  ('8', '7', 1),\n",
       "  ('8', '7', 2),\n",
       "  ('9', '3', 0),\n",
       "  ('9', '5', 1),\n",
       "  ('9', '8', 2),\n",
       "  ('10', '2', 0),\n",
       "  ('10', '9', 1)]}"
      ]
     },
     "execution_count": 7,
     "metadata": {},
     "output_type": "execute_result"
    }
   ],
   "source": [
    "tdb[\"2p2e4\"]"
   ]
  },
  {
   "cell_type": "code",
   "execution_count": 29,
   "id": "37d1b88d",
   "metadata": {},
   "outputs": [
    {
     "name": "stdout",
     "output_type": "stream",
     "text": [
      "0\n",
      "1\n",
      "2\n",
      "3\n",
      "4\n",
      "5\n",
      "6\n",
      "7\n",
      "8\n",
      "9\n",
      "10\n",
      "11\n",
      "12\n",
      "13\n",
      "14\n",
      "15\n",
      "16\n",
      "17\n",
      "18\n",
      "19\n",
      "20\n",
      "21\n",
      "22\n",
      "23\n",
      "24\n",
      "25\n",
      "26\n",
      "27\n",
      "28\n",
      "29\n",
      "30\n",
      "31\n",
      "32\n",
      "33\n",
      "34\n",
      "35\n",
      "36\n",
      "37\n",
      "38\n",
      "39\n",
      "40\n",
      "41\n",
      "42\n",
      "43\n",
      "44\n",
      "45\n",
      "46\n",
      "47\n",
      "48\n",
      "49\n",
      "50\n",
      "51\n",
      "52\n",
      "53\n",
      "54\n",
      "55\n",
      "56\n",
      "57\n",
      "58\n",
      "59\n",
      "60\n",
      "61\n",
      "62\n",
      "63\n",
      "64\n",
      "65\n",
      "66\n",
      "67\n",
      "68\n",
      "69\n",
      "70\n",
      "71\n"
     ]
    }
   ],
   "source": [
    "for i, step in enumerate(tdb[\"opoeALTV\"][\"steps\"]):\n",
    "    print(i)\n",
    "    step_theorem = step[\"theorem\"]\n",
    "    _ = tdb[step_theorem]"
   ]
  },
  {
   "cell_type": "code",
   "execution_count": 30,
   "id": "0dce0d4d",
   "metadata": {},
   "outputs": [],
   "source": [
    "tdb.save()"
   ]
  },
  {
   "cell_type": "code",
   "execution_count": 74,
   "id": "c42f95ef",
   "metadata": {},
   "outputs": [
    {
     "name": "stdout",
     "output_type": "stream",
     "text": [
      "0\n"
     ]
    }
   ],
   "source": [
    "not_download_theorems = set()\n",
    "for t in tdb.database.values():\n",
    "    for tt in t[\"steps\"]:\n",
    "        tt_theorem = tt[\"theorem\"]\n",
    "        if tt_theorem not in tdb.database and \".\" not in tt_theorem:\n",
    "            not_download_theorems.add(tt_theorem)\n",
    "            \n",
    "print(len(not_download_theorems))"
   ]
  },
  {
   "cell_type": "code",
   "execution_count": 69,
   "id": "3bbcb6f4",
   "metadata": {},
   "outputs": [
    {
     "name": "stdout",
     "output_type": "stream",
     "text": [
      "\r",
      "1/1"
     ]
    }
   ],
   "source": [
    "n_theorems = len(not_download_theorems)\n",
    "for i, tt in enumerate(not_download_theorems):\n",
    "    print(f\"\\r{i+1}/{n_theorems}\", end=\"\")\n",
    "    _ = tdb[tt]\n",
    "    \n",
    "tdb.save()"
   ]
  },
  {
   "cell_type": "code",
   "execution_count": 70,
   "id": "db8bacdf",
   "metadata": {},
   "outputs": [
    {
     "name": "stdout",
     "output_type": "stream",
     "text": [
      "2\n"
     ]
    }
   ],
   "source": [
    "not_download_theorems = set()\n",
    "for t in tdb.database.values():\n",
    "    for tt in t[\"steps\"]:\n",
    "        tt_theorem = tt[\"theorem\"]\n",
    "        if tt_theorem not in tdb.database and \".\" not in tt_theorem:\n",
    "            not_download_theorems.add(tt_theorem)\n",
    "            \n",
    "print(len(not_download_theorems))"
   ]
  },
  {
   "cell_type": "code",
   "execution_count": 71,
   "id": "ed340c57",
   "metadata": {},
   "outputs": [
    {
     "name": "stdout",
     "output_type": "stream",
     "text": [
      "2/2"
     ]
    }
   ],
   "source": [
    "n_theorems = len(not_download_theorems)\n",
    "for i, tt in enumerate(not_download_theorems):\n",
    "    print(f\"\\r{i+1}/{n_theorems}\", end=\"\")\n",
    "    _ = tdb[tt]\n",
    "    \n",
    "tdb.save()"
   ]
  },
  {
   "cell_type": "code",
   "execution_count": 72,
   "id": "cd9359b1",
   "metadata": {},
   "outputs": [
    {
     "name": "stdout",
     "output_type": "stream",
     "text": [
      "0\n"
     ]
    }
   ],
   "source": [
    "not_download_theorems = set()\n",
    "for t in tdb.database.values():\n",
    "    for tt in t[\"steps\"]:\n",
    "        tt_theorem = tt[\"theorem\"]\n",
    "        if tt_theorem not in tdb.database and \".\" not in tt_theorem:\n",
    "            not_download_theorems.add(tt_theorem)\n",
    "            \n",
    "print(len(not_download_theorems))"
   ]
  },
  {
   "cell_type": "code",
   "execution_count": 73,
   "id": "37b9be77",
   "metadata": {},
   "outputs": [],
   "source": [
    "n_theorems = len(not_download_theorems)\n",
    "for i, tt in enumerate(not_download_theorems):\n",
    "    print(f\"\\r{i+1}/{n_theorems}\", end=\"\")\n",
    "    _ = tdb[tt]\n",
    "    \n",
    "tdb.save()"
   ]
  },
  {
   "cell_type": "code",
   "execution_count": 75,
   "id": "6fbf4985",
   "metadata": {},
   "outputs": [
    {
     "data": {
      "text/plain": [
       "2872"
      ]
     },
     "execution_count": 75,
     "metadata": {},
     "output_type": "execute_result"
    }
   ],
   "source": [
    "len(tdb.database)"
   ]
  },
  {
   "cell_type": "code",
   "execution_count": 77,
   "id": "8c0cff2a",
   "metadata": {},
   "outputs": [
    {
     "data": {
      "text/plain": [
       "{'theorem': 'ax-mp', 'expression': '⊢ 𝜓', 'steps': [], 'hyps': []}"
      ]
     },
     "execution_count": 77,
     "metadata": {},
     "output_type": "execute_result"
    }
   ],
   "source": [
    "tdb[\"ax-mp\"]"
   ]
  },
  {
   "cell_type": "code",
   "execution_count": 78,
   "id": "50d9430b",
   "metadata": {},
   "outputs": [],
   "source": [
    "from functools import cache"
   ]
  },
  {
   "cell_type": "code",
   "execution_count": null,
   "id": "6e15f1f3",
   "metadata": {},
   "outputs": [],
   "source": []
  },
  {
   "cell_type": "code",
   "execution_count": 101,
   "id": "b334ad74",
   "metadata": {},
   "outputs": [
    {
     "data": {
      "text/plain": [
       "0"
      ]
     },
     "execution_count": 101,
     "metadata": {},
     "output_type": "execute_result"
    }
   ],
   "source": [
    "get_theorem_complexity2(\"adasdas\")"
   ]
  },
  {
   "cell_type": "code",
   "execution_count": 107,
   "id": "2cc5552b",
   "metadata": {},
   "outputs": [],
   "source": [
    "def get_theorem_complexity4(theorem_name):\n",
    "    theorem = tdb[theorem_name]\n",
    "    \n",
    "    if theorem == None:\n",
    "        return 0\n",
    "    \n",
    "    if \"complexity\" not in theorem:\n",
    "        \n",
    "        if len(theorem[\"steps\"]) == 0:\n",
    "            theorem[\"complexity\"] = 1\n",
    "        else:\n",
    "            theorem[\"complexity\"] = sum([get_theorem_complexity4(tt[\"theorem\"]) for tt in theorem[\"steps\"] if \".\" not in tt[\"theorem\"]])\n",
    "            \n",
    "    return theorem[\"complexity\"]"
   ]
  },
  {
   "cell_type": "code",
   "execution_count": 117,
   "id": "1e8ea289",
   "metadata": {},
   "outputs": [
    {
     "data": {
      "text/plain": [
       "825161439093291621583605"
      ]
     },
     "execution_count": 117,
     "metadata": {},
     "output_type": "execute_result"
    }
   ],
   "source": [
    "get_theorem_complexity4(\"opoeALTV\")"
   ]
  },
  {
   "cell_type": "code",
   "execution_count": 118,
   "id": "61725d4b",
   "metadata": {},
   "outputs": [],
   "source": [
    "tdb.save()"
   ]
  },
  {
   "cell_type": "code",
   "execution_count": 93,
   "id": "9c07fd0a",
   "metadata": {},
   "outputs": [
    {
     "data": {
      "text/plain": [
       "{'theorem': 'a1i',\n",
       " 'expression': '⊢ (𝜓 → 𝜑)',\n",
       " 'steps': [{'step': '1', 'theorem': 'a1i.1', 'expression': '⊢ 𝜑'},\n",
       "  {'step': '2', 'theorem': 'ax-1', 'expression': '⊢ (𝜑 → (𝜓 → 𝜑))'},\n",
       "  {'step': '3', 'theorem': 'ax-mp', 'expression': '⊢ (𝜓 → 𝜑)'}],\n",
       " 'hyps': [('3', '1', 0), ('3', '2', 1)]}"
      ]
     },
     "execution_count": 93,
     "metadata": {},
     "output_type": "execute_result"
    }
   ],
   "source": [
    "tdb.database[\"a1i\"]"
   ]
  },
  {
   "cell_type": "code",
   "execution_count": 83,
   "id": "1b1b1bb1",
   "metadata": {},
   "outputs": [
    {
     "data": {
      "text/plain": [
       "[{'step': '1', 'theorem': 'dfss', 'expression': '⊢ (𝐴 ⊆ 𝐵 ↔ 𝐴 = (𝐴 ∩ 𝐵))'},\n",
       " {'step': '2',\n",
       "  'theorem': 'df-in',\n",
       "  'expression': '⊢ (𝐴 ∩ 𝐵) = {𝑥 ∣ (𝑥 ∈ 𝐴 ∧ 𝑥 ∈ 𝐵)}'},\n",
       " {'step': '3',\n",
       "  'theorem': 'eqeq2i',\n",
       "  'expression': '⊢ (𝐴 = (𝐴 ∩ 𝐵) ↔ 𝐴 = {𝑥 ∣ (𝑥 ∈ 𝐴 ∧ 𝑥 ∈ 𝐵)})'},\n",
       " {'step': '4',\n",
       "  'theorem': 'abeq2',\n",
       "  'expression': '⊢ (𝐴 = {𝑥 ∣ (𝑥 ∈ 𝐴 ∧ 𝑥 ∈ 𝐵)} ↔ ∀𝑥(𝑥 ∈ 𝐴 ↔ (𝑥 ∈ 𝐴 ∧ 𝑥 ∈ 𝐵)))'},\n",
       " {'step': '5',\n",
       "  'theorem': '3bitri',\n",
       "  'expression': '⊢ (𝐴 ⊆ 𝐵 ↔ ∀𝑥(𝑥 ∈ 𝐴 ↔ (𝑥 ∈ 𝐴 ∧ 𝑥 ∈ 𝐵)))'},\n",
       " {'step': '6',\n",
       "  'theorem': 'pm4.71',\n",
       "  'expression': '⊢ ((𝑥 ∈ 𝐴 → 𝑥 ∈ 𝐵) ↔ (𝑥 ∈ 𝐴 ↔ (𝑥 ∈ 𝐴 ∧ 𝑥 ∈ 𝐵)))'},\n",
       " {'step': '7',\n",
       "  'theorem': 'albii',\n",
       "  'expression': '⊢ (∀𝑥(𝑥 ∈ 𝐴 → 𝑥 ∈ 𝐵) ↔ ∀𝑥(𝑥 ∈ 𝐴 ↔ (𝑥 ∈ 𝐴 ∧ 𝑥 ∈ 𝐵)))'},\n",
       " {'step': '8',\n",
       "  'theorem': 'bitr4i',\n",
       "  'expression': '⊢ (𝐴 ⊆ 𝐵 ↔ ∀𝑥(𝑥 ∈ 𝐴 → 𝑥 ∈ 𝐵))'}]"
      ]
     },
     "execution_count": 83,
     "metadata": {},
     "output_type": "execute_result"
    }
   ],
   "source": [
    "tdb[\"dfss2\"][\"steps\"]"
   ]
  },
  {
   "cell_type": "code",
   "execution_count": null,
   "id": "66d2cb0b",
   "metadata": {},
   "outputs": [],
   "source": []
  }
 ],
 "metadata": {
  "kernelspec": {
   "display_name": "Python 3",
   "language": "python",
   "name": "python3"
  },
  "language_info": {
   "codemirror_mode": {
    "name": "ipython",
    "version": 3
   },
   "file_extension": ".py",
   "mimetype": "text/x-python",
   "name": "python",
   "nbconvert_exporter": "python",
   "pygments_lexer": "ipython3",
   "version": "3.9.6"
  }
 },
 "nbformat": 4,
 "nbformat_minor": 5
}
