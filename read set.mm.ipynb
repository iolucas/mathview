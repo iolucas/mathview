{
 "cells": [
  {
   "cell_type": "code",
   "execution_count": 1,
   "id": "e95e6eda",
   "metadata": {},
   "outputs": [],
   "source": [
    "from adapt_utils import replace_symbols\n",
    "\n",
    "from tree_parser import *\n",
    "\n",
    "import networkx as nx\n",
    "\n",
    "import matplotlib\n",
    "import matplotlib.pyplot as plt\n",
    "\n",
    "import copy\n",
    "\n",
    "import time\n",
    "\n",
    "from collections import Counter"
   ]
  },
  {
   "cell_type": "code",
   "execution_count": 3,
   "id": "701ca245",
   "metadata": {},
   "outputs": [
    {
     "name": "stdout",
     "output_type": "stream",
     "text": [
      "included 5555695 tokens from set.mm\n",
      "proposition: 3000"
     ]
    }
   ],
   "source": [
    "text = file_contents()\n",
    "database = meta_math_database(text,n=3000)"
   ]
  },
  {
   "cell_type": "code",
   "execution_count": 6,
   "id": "f4065e56",
   "metadata": {},
   "outputs": [
    {
     "data": {
      "text/plain": [
       "'|- ps'"
      ]
     },
     "execution_count": 6,
     "metadata": {},
     "output_type": "execute_result"
    }
   ],
   "source": [
    "\" \".join(database.propositions[\"ax-mp\"].statement)"
   ]
  },
  {
   "cell_type": "code",
   "execution_count": null,
   "id": "b77eb158",
   "metadata": {},
   "outputs": [],
   "source": []
  }
 ],
 "metadata": {
  "kernelspec": {
   "display_name": "Python 3",
   "language": "python",
   "name": "python3"
  },
  "language_info": {
   "codemirror_mode": {
    "name": "ipython",
    "version": 3
   },
   "file_extension": ".py",
   "mimetype": "text/x-python",
   "name": "python",
   "nbconvert_exporter": "python",
   "pygments_lexer": "ipython3",
   "version": "3.9.6"
  }
 },
 "nbformat": 4,
 "nbformat_minor": 5
}
